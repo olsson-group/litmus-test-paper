{
 "cells": [
  {
   "cell_type": "markdown",
   "metadata": {},
   "source": [
    "## Analysis notebook for MSM of Ubq:SH3 binding data\n",
    "This notebook reproduces values and figures reported in the main manuscript and recreates representative structures for visual inspection from source simulation data (must be downloaded separately)."
   ]
  },
  {
   "cell_type": "code",
   "execution_count": 3,
   "metadata": {},
   "outputs": [],
   "source": [
    "%matplotlib inline\n",
    "import matplotlib as mpl\n",
    "import matplotlib.pyplot as plt\n",
    "import numpy as np\n",
    "import pyemma\n",
    "from msmtools.util.statistics import confidence_interval\n"
   ]
  },
  {
   "cell_type": "code",
   "execution_count": 15,
   "metadata": {},
   "outputs": [],
   "source": [
    "model=pyemma.load('final_model/bayesian_model/model.pyemma')\n"
   ]
  },
  {
   "cell_type": "code",
   "execution_count": 22,
   "metadata": {},
   "outputs": [],
   "source": [
    "tica_cterm = pyemma.load('tica_cterm.pyemm')"
   ]
  },
  {
   "cell_type": "code",
   "execution_count": 17,
   "metadata": {},
   "outputs": [],
   "source": [
    "skippable = []\n",
    "rmsds = [np.load(f'_model/rmsds_{i}.npz.npy') for i in range(1015) if i not in skippable]\n",
    "pincer = [np.load(f'_model/pincer_mode_{i}.npz.npy') for i in range(1015) if i not in skippable]\n",
    "pflip = [np.load(f'_model/pepflip_{i}.npz.npy') for i in range(1015) if i not in skippable]\n",
    "saltbridges = [np.load(f'_model/saltbridges_{i}.npy') for i in range(1015) if i not in skippable]\n",
    "\n",
    "chain_contact = [np.load(f'joined_strided_trajectories/trajectory_{i}_cf.npz')['arr_0'].ravel() for i in range(1015) if i not in skippable]\n",
    "chain_contact_sh3 = [np.load(f'joined_strided_trajectories/trajectory_{i}_sh3tu.npz')['arr_0'].ravel() for i in range(1015) if i not in skippable]\n",
    "data = [np.load(f'_model/all_features_{i}.npz.npy') for i in range(1015) if i not in skippable]  \n",
    "torsion_idx = np.load(\"_model/torsion_idx.npy\")\n"
   ]
  },
  {
   "cell_type": "code",
   "execution_count": 18,
   "metadata": {},
   "outputs": [],
   "source": [
    "unbound_only = tica_cterm.transform([d[:,torsion_idx] for d in data])"
   ]
  },
  {
   "cell_type": "code",
   "execution_count": 19,
   "metadata": {},
   "outputs": [],
   "source": [
    "def coarsegrain_tmat(msmobj, memberships):\n",
    "    if hasattr(msmobj, 'P') and hasattr(msmobj, 'stationary_distribution'):\n",
    "        A = np.dot(np.dot(memberships.T, msmobj.P), memberships)\n",
    "        pi_coarse = np.dot(memberships.T, msmobj.stationary_distribution)\n",
    "        B = np.dot(np.dot(np.diag(1.0 / pi_coarse), memberships.T), np.diag(msmobj.stationary_distribution))\n",
    "        B /= B.sum(axis=1, keepdims=True)\n",
    "\n",
    "    else:\n",
    "        import msmtools as mt\n",
    "        A = np.dot(np.dot(memberships.T, msmobj), memberships)\n",
    "        pi_coarse = np.dot(memberships.T, mt.analysis.statdist(msmobj))\n",
    "        B = np.dot(np.dot(np.diag(1.0 / pi_coarse), memberships.T), np.diag(mt.analysis.statdist(msmobj)))\n",
    "        B /= B.sum(axis=1, keepdims=True)\n",
    "\n",
    "\n",
    "    # coarse-grained transition matrix\n",
    "    W = np.linalg.inv(np.dot(memberships.T, memberships))\n",
    "    if hasattr(msmobj, 'P'):\n",
    "        A = np.dot(np.dot(memberships.T, msmobj.P), memberships)\n",
    "    else:\n",
    "        A = np.dot(np.dot(memberships.T, msmobj), memberships)\n",
    "    _P_coarse = np.dot(W, A)\n",
    "\n",
    "    # symmetrize and renormalize to eliminate numerical errors\n",
    "    X = np.dot(np.diag(pi_coarse), _P_coarse)\n",
    "    _P_coarse = X / X.sum(axis=1, keepdims=True)\n",
    "    return _P_coarse, pi_coarse, B\n",
    "\n",
    "    "
   ]
  },
  {
   "cell_type": "code",
   "execution_count": 105,
   "metadata": {},
   "outputs": [],
   "source": [
    "dtrajscatx = np.concatenate(model.discrete_trajectories_active)\n",
    "dtrajscat = dtrajscatx[dtrajscatx!=-1]\n",
    "dtrajcat = dtrajscatx[dtrajscatx!=-1]\n",
    "\n",
    "ftrajcat = np.concatenate(rmsds)[dtrajscatx!=-1]\n",
    "\n",
    "unique_states = np.unique(dtrajcat)\n",
    "\n",
    "pflipcat = np.concatenate(pflip)[dtrajscatx!=-1]\n",
    "pincercat = np.concatenate(pincer)[dtrajscatx!=-1]\n",
    "rmsdcat = np.concatenate(rmsds)[dtrajscatx!=-1]\n",
    "cccat = np.concatenate(chain_contact)[dtrajscatx!=-1]\n",
    "\n",
    "state_avg_pflip = np.array([pflipcat[dtrajscat==u].mean() for u in unique_states])\n",
    "state_avg_pincer = np.array([pincercat[dtrajscat==u].mean() for u in unique_states])\n",
    "state_avg_rmsds = np.array([rmsdcat[dtrajscat==u].mean() for u in unique_states])\n",
    "state_avg_cc = np.array([cccat[dtrajcat==u].mean() for u in unique_states])\n",
    "\n",
    "unbound_idx = unique_states[state_avg_cc>1]\n",
    "bound_idx = unique_states[state_avg_cc<1]\n",
    "\n",
    "new_membership = model.metastable_memberships\n",
    "new_membership = np.hstack((new_membership, np.zeros((model.nstates,1))))\n",
    "new_membership[unbound_idx, -1] = 1.\n",
    "new_membership[unbound_idx, :-1] = 0.\n",
    "\n",
    "bound = new_membership.shape[1]-2\n",
    "unbound = new_membership.shape[1]-1\n",
    "\n",
    "\n",
    "dtc = dtrajcat\n",
    "ftc = np.concatenate(unbound_only)[dtrajscatx!=-1][:,0]\n",
    "\n",
    "state_avg_CTICM = np.array([ftc[dtc==i].mean() for i in unique_states])\n",
    "ftc = np.concatenate(unbound_only)[dtrajscatx!=-1][:,1]\n",
    "\n",
    "state_avg_CTICM1 = np.array([ftc[dtc==i].mean() for i in unique_states])\n",
    "\n",
    "traj_weights = np.concatenate(model.trajectory_weights())[dtrajscatx!=-1]\n",
    "\n",
    "cterm_order_cat = np.concatenate(unbound_only[:])[dtrajscatx!=-1][:,0]\n",
    "cterm_order_cat1 = np.concatenate(unbound_only[:])[dtrajscatx!=-1][:,1]\n",
    "\n",
    "#pcca = model.pcca(15)\n",
    "\n",
    "tpt_=pyemma.msm.tpt(model, np.where(new_membership.argmax(axis=1)==unbound)[0], np.where(new_membership.argmax(axis=1)==bound)[0])\n",
    "tpt_unbind=pyemma.msm.tpt(model, np.where(new_membership.argmax(axis=1)==bound)[0], np.where(new_membership.argmax(axis=1)==unbound)[0])\n",
    "low_pincer_unbound=np.where(tpt_.committor==0)[0][np.where(state_avg_pincer[tpt_.committor==0]<0.8)[0]]\n",
    "high_pincer_unbound=np.where(tpt_.committor==0)[0][np.where(state_avg_pincer[tpt_.committor==0]>0.8)[0]]\n",
    "\n",
    "\n",
    "new_membership2 = model.metastable_memberships\n",
    "new_membership2 = np.hstack((new_membership, np.zeros((model.nstates,1))))\n",
    "new_membership2[unbound_idx, -1] = 1.\n",
    "new_membership2[unbound_idx, :-1] = 0.\n",
    "new_membership2 = np.hstack((new_membership, np.zeros((model.nstates,1))))\n",
    "new_membership2[np.argsort(model.metastable_memberships[:,-1])[-30:], -1] = 1.\n",
    "new_membership2[np.argsort(model.metastable_memberships[:,-1])[-30:], :-1] = 0.\n",
    "\n",
    "\n",
    "unbound_idx_high_ = unique_states[np.logical_and(state_avg_CTICM>-0.5, state_avg_cc>1)]\n",
    "unbound_idx_low_ = unique_states[np.logical_and(state_avg_CTICM<-0.5, state_avg_cc>1)]\n",
    "\n",
    "unbound_idx = unique_states[state_avg_cc>1]\n",
    "bound_idx = unique_states[state_avg_cc<1]\n",
    "\n",
    "\n",
    "new_membership3 = model.metastable_memberships\n",
    "new_membership3 = np.hstack((new_membership3, np.zeros((model.nstates,1))))\n",
    "new_membership3[unbound_idx_high_, -1] = 1.\n",
    "new_membership3[unbound_idx_high_, :-1] = 0.\n",
    "new_membership3 = np.hstack((new_membership3, np.zeros((model.nstates,1))))\n",
    "new_membership3[unbound_idx_low_, -1] = 1.\n",
    "new_membership3[unbound_idx_low_, :-1] = 0.\n"
   ]
  },
  {
   "cell_type": "markdown",
   "metadata": {},
   "source": [
    "Trajectory lengths"
   ]
  },
  {
   "cell_type": "code",
   "execution_count": 23,
   "metadata": {},
   "outputs": [
    {
     "name": "stdout",
     "output_type": "stream",
     "text": [
      "min, max and 50% CI 3 3999 (811.4610837438443, 1999.0)\n",
      "num traj 1015\n"
     ]
    },
    {
     "data": {
      "image/png": "[encoded data removed]",
      "text/plain": [
       "<Figure size 432x288 with 1 Axes>"
      ]
     },
     "metadata": {
      "needs_background": "light"
     },
     "output_type": "display_data"
    }
   ],
   "source": [
    "tlens = [len(pf) for pf in pflip]\n",
    "plt.hist(tlens,bins=32);\n",
    "plt.xlabel('simulation time / nanoseconds')\n",
    "plt.ylabel('count')\n",
    "print(\"min, max and 50% CI\", min(tlens), max(tlens), confidence_interval(tlens, conf=0.5))\n",
    "print(\"num traj\", len(tlens))"
   ]
  },
  {
   "cell_type": "code",
   "execution_count": 20,
   "metadata": {},
   "outputs": [],
   "source": [
    "from scipy.optimize import bisect\n",
    "from msmtools.util.statistics import confidence_interval\n",
    "def committor_to_KD(p):\n",
    "    concentration_micro_molar=1749.8652118719672 # estimated concentration in simulation box, micromolar\n",
    "    bound_p = model.stationary_distribution[tpt_.committor>p].sum()\n",
    "    return (1-bound_p)/bound_p*concentration_micro_molar\n",
    "\n",
    "def committor_to_KD_range(ps):\n",
    "    concentration_micro_molar=1749.8652118719672 # estimated concentration in simulation box, micromolar\n",
    "    stat_dist_samples = model.sample_f('stationary_distribution')\n",
    "    bound_ps = [[(1-sd[tpt_.committor>p].sum())/sd[tpt_.committor>p].sum()*concentration_micro_molar \n",
    "                 for sd in stat_dist_samples] for p in ps]\n",
    "    \n",
    "    return bound_ps\n",
    "    "
   ]
  },
  {
   "cell_type": "code",
   "execution_count": 21,
   "metadata": {},
   "outputs": [],
   "source": [
    "KD_samples = committor_to_KD_range(np.linspace(0,0.99,192))"
   ]
  },
  {
   "cell_type": "code",
   "execution_count": 22,
   "metadata": {},
   "outputs": [],
   "source": [
    "K_ons = [model.sample_f('mfpt', np.where(tpt_.committor<p)[0], np.where(tpt_.committor>p)[0]) for p in np.linspace(0.001,0.9999,16)]\n",
    "K_offs = [model.sample_f('mfpt', np.where(tpt_.committor>p)[0], np.where(tpt_.committor<p)[0]) for p in np.linspace(0.001,0.9999,16)]"
   ]
  },
  {
   "cell_type": "code",
   "execution_count": 23,
   "metadata": {},
   "outputs": [],
   "source": [
    "SH3_conc_M = 0.0017498652118719672 # Molar (estimated concentration in simulation box, Molar)"
   ]
  },
  {
   "cell_type": "code",
   "execution_count": 24,
   "metadata": {},
   "outputs": [
    {
     "data": {
      "image/png": "[encoded data removed]",
      "text/plain": [
       "<Figure size 216x432 with 3 Axes>"
      ]
     },
     "metadata": {
      "needs_background": "light"
     },
     "output_type": "display_data"
    }
   ],
   "source": [
    "fig,ax = plt.subplots(3, figsize=(3,6), sharex=True)\n",
    "ax[0].plot(np.linspace(0,0.99,192),np.array(KD_samples).mean(axis=1))\n",
    "ax[0].fill_between(np.linspace(0,0.99,192), *confidence_interval(np.array(KD_samples).T),alpha=0.2)\n",
    "ax[0].hlines(370, xmin=0, xmax=1,linestyles='--')\n",
    "ax[0].set_xlim([0,1.])\n",
    "ax[0].set_ylabel(r'$K_D$ / $\\mu$M')\n",
    "\n",
    "ax[1].plot(np.linspace(0,0.99,16),(1./np.array(K_ons)/SH3_conc_M).mean(axis=1))\n",
    "ax[1].fill_between(np.linspace(0,0.99,16), *confidence_interval(np.array(1./np.array(K_ons)/SH3_conc_M).T),alpha=0.2)\n",
    "ax[1].set_xlim([0,1.])\n",
    "ax[1].set_ylabel(r'$k_{\\mathrm{on}}$ / $10^9\\, s^{-1}\\mathrm{M}^{-1}$')\n",
    "\n",
    "ax[2].plot(np.linspace(0,0.99,16),(1e5/np.array(K_offs)).mean(axis=1))\n",
    "ax[2].fill_between(np.linspace(0,0.99,16), *confidence_interval(np.array(1e5/np.array(K_offs)).T),alpha=0.2)\n",
    "ax[2].set_xlim([0,1.])\n",
    "ax[2].set_ylabel(r'$k_{\\mathrm{off}} $ / $10^4\\, s^{-1}$')\n",
    "ax[2].set_xlabel(r'$p_{\\mathrm{bind}}$')\n",
    "fig.tight_layout()\n",
    "plt.savefig('kd_kon_koff.pdf')"
   ]
  },
  {
   "cell_type": "markdown",
   "metadata": {},
   "source": [
    "$k_{\\text{on}}$ and $k_{\\text{off}}$, when threshold for bound/unbound state is set to 0.57, matching $K_D$ within uncertainty."
   ]
  },
  {
   "cell_type": "code",
   "execution_count": 33,
   "metadata": {},
   "outputs": [],
   "source": [
    "kon_samples = model.sample_f('mfpt', np.where(tpt_.committor<0.57)[0], np.where(tpt_.committor>0.57)[0])\n",
    "koff_samples = model.sample_f('mfpt', np.where(tpt_.committor>0.57)[0], np.where(tpt_.committor<0.57)[0])"
   ]
  },
  {
   "cell_type": "code",
   "execution_count": 34,
   "metadata": {},
   "outputs": [
    {
     "ename": "NameError",
     "evalue": "name 'SH3_conc_M' is not defined",
     "output_type": "error",
     "traceback": [
      "\u001b[0;31m---------------------------------------------------------------------------\u001b[0m",
      "\u001b[0;31mNameError\u001b[0m                                 Traceback (most recent call last)",
      "\u001b[0;32m<ipython-input-34-6246e30236ba>\u001b[0m in \u001b[0;36m<module>\u001b[0;34m\u001b[0m\n\u001b[0;32m----> 1\u001b[0;31m \u001b[0;34m(\u001b[0m\u001b[0;36m1.\u001b[0m\u001b[0;34m/\u001b[0m\u001b[0mnp\u001b[0m\u001b[0;34m.\u001b[0m\u001b[0marray\u001b[0m\u001b[0;34m(\u001b[0m\u001b[0mkon_samples\u001b[0m\u001b[0;34m)\u001b[0m\u001b[0;34m/\u001b[0m\u001b[0mSH3_conc_M\u001b[0m\u001b[0;34m)\u001b[0m\u001b[0;34m.\u001b[0m\u001b[0mmean\u001b[0m\u001b[0;34m(\u001b[0m\u001b[0maxis\u001b[0m\u001b[0;34m=\u001b[0m\u001b[0;36m0\u001b[0m\u001b[0;34m)\u001b[0m\u001b[0;34m,\u001b[0m\u001b[0mconfidence_interval\u001b[0m\u001b[0;34m(\u001b[0m\u001b[0mnp\u001b[0m\u001b[0;34m.\u001b[0m\u001b[0marray\u001b[0m\u001b[0;34m(\u001b[0m\u001b[0;36m1.\u001b[0m\u001b[0;34m/\u001b[0m\u001b[0mnp\u001b[0m\u001b[0;34m.\u001b[0m\u001b[0marray\u001b[0m\u001b[0;34m(\u001b[0m\u001b[0mkon_samples\u001b[0m\u001b[0;34m)\u001b[0m\u001b[0;34m/\u001b[0m\u001b[0mSH3_conc_M\u001b[0m\u001b[0;34m)\u001b[0m\u001b[0;34m.\u001b[0m\u001b[0mT\u001b[0m\u001b[0;34m)\u001b[0m\u001b[0;34m\u001b[0m\u001b[0;34m\u001b[0m\u001b[0m\n\u001b[0m",
      "\u001b[0;31mNameError\u001b[0m: name 'SH3_conc_M' is not defined"
     ]
    }
   ],
   "source": [
    "(1./np.array(kon_samples)/SH3_conc_M).mean(axis=0),confidence_interval(np.array(1./np.array(kon_samples)/SH3_conc_M).T)"
   ]
  },
  {
   "cell_type": "code",
   "execution_count": null,
   "metadata": {},
   "outputs": [],
   "source": [
    "(1e5/np.array(koff_samples)).mean(axis=0),confidence_interval(np.array(1e5/np.array(koff_samples)))"
   ]
  },
  {
   "cell_type": "code",
   "execution_count": null,
   "metadata": {},
   "outputs": [],
   "source": [
    "np.mean(committor_to_KD_range([0.57])[0]), confidence_interval(committor_to_KD_range([0.57])[0])"
   ]
  },
  {
   "cell_type": "markdown",
   "metadata": {},
   "source": [
    "## Pincer -- fully bound"
   ]
  },
  {
   "cell_type": "code",
   "execution_count": 210,
   "metadata": {},
   "outputs": [
    {
     "data": {
      "application/vnd.jupyter.widget-view+json": {
       "model_id": "",
       "version_major": 2,
       "version_minor": 0
      },
      "text/plain": [
       "HBox(children=(FloatProgress(value=0.0, description='kmeans iterations', layout=Layout(flex='2'), max=10.0, st…"
      ]
     },
     "metadata": {},
     "output_type": "display_data"
    },
    {
     "name": "stdout",
     "output_type": "stream",
     "text": [
      "17-06-21 09:23:04 pyemma.coordinates.clustering.kmeans.KmeansClustering[3] WARNING  Algorithm did not reach convergence criterion of 1e-05 in 10 iterations. Consider increasing max_iter.\n",
      "\r"
     ]
    }
   ],
   "source": [
    "km_pincer = pyemma.coordinates.cluster_kmeans(pincercat, k=2)"
   ]
  },
  {
   "cell_type": "code",
   "execution_count": 211,
   "metadata": {},
   "outputs": [],
   "source": [
    "kbT_300K_kjmol = 2.495"
   ]
  },
  {
   "cell_type": "code",
   "execution_count": 212,
   "metadata": {},
   "outputs": [],
   "source": [
    "sample_statdist = model.sample_f('stationary_distribution')"
   ]
  },
  {
   "cell_type": "code",
   "execution_count": 213,
   "metadata": {},
   "outputs": [
    {
     "data": {
      "text/plain": [
       "0.72814256"
      ]
     },
     "execution_count": 213,
     "metadata": {},
     "output_type": "execute_result"
    }
   ],
   "source": [
    "km_pincer.cluster_centers_.mean()"
   ]
  },
  {
   "cell_type": "code",
   "execution_count": 214,
   "metadata": {},
   "outputs": [],
   "source": [
    "fully_bound = tpt_.committor==1\n",
    "pincer_open = state_avg_pincer<km_pincer.cluster_centers_.mean()\n",
    "pincer_closed = state_avg_pincer>km_pincer.cluster_centers_.mean()\n"
   ]
  },
  {
   "cell_type": "code",
   "execution_count": 215,
   "metadata": {},
   "outputs": [],
   "source": [
    "p_opens  = np.array([sd[fully_bound*pincer_open].sum()/sd[fully_bound].sum() for sd in sample_statdist])"
   ]
  },
  {
   "cell_type": "code",
   "execution_count": 216,
   "metadata": {},
   "outputs": [
    {
     "name": "stdout",
     "output_type": "stream",
     "text": [
      "p_open 0.33285859801887385 (0.285884271945411, 0.3818063569914207)\n",
      "p_closed 0.6671414019811261 (0.6182761691580081, 0.7141490386933927)\n"
     ]
    }
   ],
   "source": [
    "print(\"p_open\", np.mean(p_opens), confidence_interval(p_opens))\n",
    "print(\"p_closed\", np.mean(1-p_opens), confidence_interval(1-p_opens))\n"
   ]
  },
  {
   "cell_type": "code",
   "execution_count": 36,
   "metadata": {},
   "outputs": [],
   "source": [
    "np.save(\"xb.npy\", (1-p_opens)/p_opens)"
   ]
  },
  {
   "cell_type": "code",
   "execution_count": 37,
   "metadata": {},
   "outputs": [],
   "source": [
    "dgs_closed_open = -kbT_300K_kjmol*np.log(p_opens/(1-p_opens))"
   ]
  },
  {
   "cell_type": "code",
   "execution_count": 38,
   "metadata": {},
   "outputs": [
    {
     "name": "stdout",
     "output_type": "stream",
     "text": [
      "Delta G 1.7398723388336594 (1.2032331922995494, 2.2862249364083307)\n"
     ]
    }
   ],
   "source": [
    "print(\"Delta G\", np.mean(dgs_closed_open), confidence_interval(dgs_closed_open))\n"
   ]
  },
  {
   "cell_type": "code",
   "execution_count": 39,
   "metadata": {},
   "outputs": [],
   "source": [
    "sample_mfpt_open_close = model.sample_f('mfpt', np.where(fully_bound*pincer_open)[0], \n",
    "                                        np.where(fully_bound*pincer_closed)[0])\n",
    "sample_mfpt_close_open = model.sample_f('mfpt', np.where(fully_bound*pincer_closed)[0],\n",
    "                                        np.where(fully_bound*pincer_open)[0])"
   ]
  },
  {
   "cell_type": "code",
   "execution_count": 40,
   "metadata": {},
   "outputs": [
    {
     "data": {
      "text/plain": [
       "(359060.78354773845, (292762.17221584765, 434171.0831677964))"
      ]
     },
     "execution_count": 40,
     "metadata": {},
     "output_type": "execute_result"
    }
   ],
   "source": [
    "np.mean(1e9/np.array(sample_mfpt_close_open)), confidence_interval(1e9/np.array(sample_mfpt_close_open))"
   ]
  },
  {
   "cell_type": "code",
   "execution_count": 41,
   "metadata": {},
   "outputs": [
    {
     "data": {
      "text/plain": [
       "(217523.71910912282, (170300.08713583119, 276213.3316581505))"
      ]
     },
     "execution_count": 41,
     "metadata": {},
     "output_type": "execute_result"
    }
   ],
   "source": [
    "np.mean(1e9/np.array(sample_mfpt_open_close)), confidence_interval(1e9/np.array(sample_mfpt_open_close))"
   ]
  },
  {
   "cell_type": "code",
   "execution_count": 42,
   "metadata": {},
   "outputs": [
    {
     "data": {
      "text/plain": [
       "<matplotlib.collections.LineCollection at 0x2bc52a1d0>"
      ]
     },
     "execution_count": 42,
     "metadata": {},
     "output_type": "execute_result"
    },
    {
     "data": {
      "image/png": "[encoded data removed]",
      "text/plain": [
       "<Figure size 432x288 with 1 Axes>"
      ]
     },
     "metadata": {
      "needs_background": "light"
     },
     "output_type": "display_data"
    }
   ],
   "source": [
    "plt.hist(pincercat,density=True,bins=128);\n",
    "plt.vlines(km_pincer.cluster_centers_.flatten(), ymin=0, ymax=0.5)"
   ]
  },
  {
   "cell_type": "code",
   "execution_count": null,
   "metadata": {},
   "outputs": [],
   "source": []
  },
  {
   "cell_type": "code",
   "execution_count": 43,
   "metadata": {},
   "outputs": [
    {
     "data": {
      "text/plain": [
       "0.4975602298078331"
      ]
     },
     "execution_count": 43,
     "metadata": {},
     "output_type": "execute_result"
    }
   ],
   "source": [
    "km_pincer.dtrajs[0][tpt_.committor[dtrajcat]==1].mean()"
   ]
  },
  {
   "cell_type": "code",
   "execution_count": 44,
   "metadata": {},
   "outputs": [
    {
     "data": {
      "image/png": "[encoded data removed]",
      "text/plain": [
       "<Figure size 432x288 with 1 Axes>"
      ]
     },
     "metadata": {
      "needs_background": "light"
     },
     "output_type": "display_data"
    }
   ],
   "source": [
    "plt.hist(pincercat[tpt_.committor[dtrajcat]==1],bins=128,density=True,histtype='step');\n",
    "plt.hist(pincercat[tpt_.committor[dtrajcat]==0],bins=128,density=True,histtype='step');"
   ]
  },
  {
   "cell_type": "code",
   "execution_count": 217,
   "metadata": {},
   "outputs": [],
   "source": [
    "sample_statdist = model.sample_f('stationary_distribution')\n",
    "im_states = (tpt_.committor>0.45)*(tpt_.committor<0.75)\n",
    "fully_bound = tpt_.committor==1\n"
   ]
  },
  {
   "cell_type": "markdown",
   "metadata": {},
   "source": [
    "# Pincer --intermediate"
   ]
  },
  {
   "cell_type": "code",
   "execution_count": 45,
   "metadata": {},
   "outputs": [
    {
     "data": {
      "application/vnd.jupyter.widget-view+json": {
       "model_id": "",
       "version_major": 2,
       "version_minor": 0
      },
      "text/plain": [
       "HBox(children=(FloatProgress(value=0.0, description='kmeans iterations', layout=Layout(flex='2'), max=10.0, st…"
      ]
     },
     "metadata": {},
     "output_type": "display_data"
    },
    {
     "name": "stdout",
     "output_type": "stream",
     "text": [
      "\r"
     ]
    }
   ],
   "source": [
    "km_pincer = pyemma.coordinates.cluster_kmeans(pincercat, k=2)\n"
   ]
  },
  {
   "cell_type": "code",
   "execution_count": 218,
   "metadata": {},
   "outputs": [],
   "source": [
    "kbT_300K_kjmol = 2.495\n",
    "pincer_open = state_avg_pincer<km_pincer.cluster_centers_.mean()\n",
    "pincer_closed = state_avg_pincer>km_pincer.cluster_centers_.mean()\n"
   ]
  },
  {
   "cell_type": "code",
   "execution_count": 219,
   "metadata": {},
   "outputs": [
    {
     "name": "stdout",
     "output_type": "stream",
     "text": [
      "0.72814256\n"
     ]
    }
   ],
   "source": [
    "print(km_pincer.cluster_centers_.mean())"
   ]
  },
  {
   "cell_type": "code",
   "execution_count": 220,
   "metadata": {},
   "outputs": [],
   "source": [
    "p_opens_im  = np.array([sd[im_states*pincer_open].sum()/sd[im_states].sum() for sd in sample_statdist])"
   ]
  },
  {
   "cell_type": "code",
   "execution_count": 221,
   "metadata": {},
   "outputs": [
    {
     "name": "stdout",
     "output_type": "stream",
     "text": [
      "p_open 0.6164499726184928 (0.5802012298900366, 0.6534819965063022)\n",
      "p_closed 0.3835500273815071 (0.3465837649300133, 0.4198020941868601)\n"
     ]
    }
   ],
   "source": [
    "print(\"p_open\", np.mean(p_opens_im), confidence_interval(p_opens_im))\n",
    "print(\"p_closed\", np.mean(1-p_opens_im), confidence_interval(1-p_opens_im))\n"
   ]
  },
  {
   "cell_type": "code",
   "execution_count": 50,
   "metadata": {},
   "outputs": [],
   "source": [
    "dgs_closed_open = -kbT_300K_kjmol*np.log(p_opens_im/(1-p_opens_im))"
   ]
  },
  {
   "cell_type": "code",
   "execution_count": 51,
   "metadata": {},
   "outputs": [
    {
     "name": "stdout",
     "output_type": "stream",
     "text": [
      "Delta G -1.185665604084954 (-1.5824991924867966, -0.8073694335511652)\n"
     ]
    }
   ],
   "source": [
    "print(\"Delta G\", np.mean(dgs_closed_open), confidence_interval(dgs_closed_open))\n"
   ]
  },
  {
   "cell_type": "code",
   "execution_count": 208,
   "metadata": {},
   "outputs": [
    {
     "data": {
      "image/png": "[encoded data removed]",
      "text/plain": [
       "<Figure size 212.4x212.4 with 1 Axes>"
      ]
     },
     "metadata": {
      "needs_background": "light"
     },
     "output_type": "display_data"
    }
   ],
   "source": [
    "fig,ax = plt.subplots(1,1, figsize=(2.95,2.95))\n",
    "ax.hist(pincercat[(tpt_.committor[dtrajcat]==0)],bins=128,density=True,histtype='step', label=\"Unbound\");\n",
    "#ax.hist(pincercat[(tpt_.committor[dtrajcat]>0.45)*(tpt_.committor[dtrajcat]<0.75)],bins=128,density=True,histtype='step');\n",
    "ax.hist(pincercat[(tpt_.committor[dtrajcat]==1)],bins=128,density=True,histtype='step', label=\"Bound\");\n",
    "ax.set_xlabel(\"Pincer mode\")\n",
    "ax.set_ylabel(\"Count\")\n",
    "ax.legend(loc='upper left')\n",
    "plt.tight_layout()\n",
    "plt.savefig(\"pincer_bound_unbound.pdf\")"
   ]
  },
  {
   "cell_type": "code",
   "execution_count": 53,
   "metadata": {},
   "outputs": [
    {
     "data": {
      "text/plain": [
       "(array([2.00000e+00, 2.00000e+00, 1.80000e+01, 1.60000e+01, 2.00000e+01,\n",
       "        2.60000e+01, 3.80000e+01, 4.30000e+01, 4.80000e+01, 4.80000e+01,\n",
       "        5.00000e+01, 3.70000e+01, 3.10000e+01, 1.50000e+01, 2.80000e+01,\n",
       "        1.90000e+01, 1.70000e+01, 1.90000e+01, 1.60000e+01, 1.80000e+01,\n",
       "        1.90000e+01, 2.90000e+01, 4.50000e+01, 5.20000e+01, 1.04000e+02,\n",
       "        2.00000e+02, 4.80000e+02, 1.31000e+03, 3.05800e+03, 7.25900e+03,\n",
       "        1.53730e+04, 3.00890e+04, 5.39610e+04, 8.60670e+04, 1.23259e+05,\n",
       "        1.61092e+05, 1.88337e+05, 2.01150e+05, 1.93795e+05, 1.69365e+05,\n",
       "        1.37306e+05, 1.02753e+05, 7.09480e+04, 4.66700e+04, 2.87820e+04,\n",
       "        1.71960e+04, 9.82500e+03, 5.53300e+03, 3.00800e+03, 1.73200e+03,\n",
       "        9.12000e+02, 5.51000e+02, 3.30000e+02, 2.18000e+02, 1.51000e+02,\n",
       "        9.10000e+01, 7.70000e+01, 6.70000e+01, 5.80000e+01, 5.40000e+01,\n",
       "        4.20000e+01, 3.90000e+01, 4.90000e+01, 3.40000e+01, 3.30000e+01,\n",
       "        2.30000e+01, 1.70000e+01, 1.70000e+01, 1.70000e+01, 1.50000e+01,\n",
       "        1.90000e+01, 1.20000e+01, 9.00000e+00, 9.00000e+00, 9.00000e+00,\n",
       "        1.10000e+01, 1.40000e+01, 1.80000e+01, 1.90000e+01, 2.30000e+01,\n",
       "        3.30000e+01, 3.60000e+01, 3.40000e+01, 4.80000e+01, 5.90000e+01,\n",
       "        5.40000e+01, 7.60000e+01, 1.08000e+02, 1.39000e+02, 1.45000e+02,\n",
       "        1.62000e+02, 1.50000e+02, 1.47000e+02, 1.36000e+02, 1.01000e+02,\n",
       "        6.20000e+01, 5.90000e+01, 4.60000e+01, 3.80000e+01, 5.40000e+01,\n",
       "        5.50000e+01, 5.70000e+01, 7.50000e+01, 1.15000e+02, 1.59000e+02,\n",
       "        1.57000e+02, 2.87000e+02, 4.02000e+02, 5.32000e+02, 7.48000e+02,\n",
       "        1.00800e+03, 1.29000e+03, 1.58000e+03, 1.83100e+03, 2.17600e+03,\n",
       "        2.25000e+03, 2.31000e+03, 2.12800e+03, 1.86900e+03, 1.42900e+03,\n",
       "        1.09500e+03, 6.79000e+02, 4.29000e+02, 2.33000e+02, 1.15000e+02,\n",
       "        5.40000e+01, 2.60000e+01, 7.00000e+00]),\n",
       " array([-5.0342294e+02, -4.9843613e+02, -4.9344934e+02, -4.8846252e+02,\n",
       "        -4.8347571e+02, -4.7848892e+02, -4.7350211e+02, -4.6851529e+02,\n",
       "        -4.6352850e+02, -4.5854169e+02, -4.5355487e+02, -4.4856808e+02,\n",
       "        -4.4358127e+02, -4.3859445e+02, -4.3360767e+02, -4.2862085e+02,\n",
       "        -4.2363403e+02, -4.1864725e+02, -4.1366043e+02, -4.0867361e+02,\n",
       "        -4.0368683e+02, -3.9870001e+02, -3.9371320e+02, -3.8872641e+02,\n",
       "        -3.8373959e+02, -3.7875278e+02, -3.7376599e+02, -3.6877917e+02,\n",
       "        -3.6379239e+02, -3.5880557e+02, -3.5381876e+02, -3.4883197e+02,\n",
       "        -3.4384515e+02, -3.3885834e+02, -3.3387155e+02, -3.2888474e+02,\n",
       "        -3.2389792e+02, -3.1891113e+02, -3.1392432e+02, -3.0893750e+02,\n",
       "        -3.0395071e+02, -2.9896390e+02, -2.9397708e+02, -2.8899030e+02,\n",
       "        -2.8400348e+02, -2.7901666e+02, -2.7402988e+02, -2.6904306e+02,\n",
       "        -2.6405624e+02, -2.5906946e+02, -2.5408264e+02, -2.4909584e+02,\n",
       "        -2.4410902e+02, -2.3912222e+02, -2.3413542e+02, -2.2914861e+02,\n",
       "        -2.2416180e+02, -2.1917500e+02, -2.1418819e+02, -2.0920139e+02,\n",
       "        -2.0421458e+02, -1.9922777e+02, -1.9424097e+02, -1.8925417e+02,\n",
       "        -1.8426736e+02, -1.7928055e+02, -1.7429375e+02, -1.6930695e+02,\n",
       "        -1.6432013e+02, -1.5933333e+02, -1.5434653e+02, -1.4935971e+02,\n",
       "        -1.4437291e+02, -1.3938611e+02, -1.3439929e+02, -1.2941249e+02,\n",
       "        -1.2442568e+02, -1.1943888e+02, -1.1445207e+02, -1.0946526e+02,\n",
       "        -1.0447846e+02, -9.9491653e+01, -9.4504845e+01, -8.9518044e+01,\n",
       "        -8.4531235e+01, -7.9544434e+01, -7.4557625e+01, -6.9570816e+01,\n",
       "        -6.4584015e+01, -5.9597206e+01, -5.4610401e+01, -4.9623592e+01,\n",
       "        -4.4636787e+01, -3.9649982e+01, -3.4663177e+01, -2.9676371e+01,\n",
       "        -2.4689564e+01, -1.9702757e+01, -1.4715952e+01, -9.7291460e+00,\n",
       "        -4.7423396e+00,  2.4446642e-01,  5.2312727e+00,  1.0218079e+01,\n",
       "         1.5204885e+01,  2.0191690e+01,  2.5178497e+01,  3.0165302e+01,\n",
       "         3.5152107e+01,  4.0138916e+01,  4.5125721e+01,  5.0112526e+01,\n",
       "         5.5099335e+01,  6.0086140e+01,  6.5072945e+01,  7.0059753e+01,\n",
       "         7.5046555e+01,  8.0033363e+01,  8.5020172e+01,  9.0006973e+01,\n",
       "         9.4993782e+01,  9.9980591e+01,  1.0496739e+02,  1.0995420e+02,\n",
       "         1.1494100e+02,  1.1992781e+02,  1.2491462e+02,  1.2990143e+02,\n",
       "         1.3488823e+02], dtype=float32),\n",
       " <a list of 128 Patch objects>)"
      ]
     },
     "execution_count": 53,
     "metadata": {},
     "output_type": "execute_result"
    },
    {
     "data": {
      "image/png": "[encoded data removed]",
      "text/plain": [
       "<Figure size 432x288 with 1 Axes>"
      ]
     },
     "metadata": {
      "needs_background": "light"
     },
     "output_type": "display_data"
    }
   ],
   "source": [
    "plt.hist(pflipcat,bins=128,log=True);"
   ]
  },
  {
   "cell_type": "markdown",
   "metadata": {},
   "source": [
    "# Peptide flip"
   ]
  },
  {
   "cell_type": "code",
   "execution_count": 35,
   "metadata": {},
   "outputs": [
    {
     "data": {
      "application/vnd.jupyter.widget-view+json": {
       "model_id": "",
       "version_major": 2,
       "version_minor": 0
      },
      "text/plain": [
       "HBox(children=(FloatProgress(value=0.0, description='kmeans iterations', layout=Layout(flex='2'), max=10.0, st…"
      ]
     },
     "metadata": {},
     "output_type": "display_data"
    },
    {
     "name": "stdout",
     "output_type": "stream",
     "text": [
      "\r"
     ]
    }
   ],
   "source": [
    "pflip_km = pyemma.coordinates.cluster_kmeans(pflipcat, k=2)"
   ]
  },
  {
   "cell_type": "code",
   "execution_count": 36,
   "metadata": {},
   "outputs": [],
   "source": [
    "pflip_in = state_avg_pflip>pflip_km.cluster_centers_.mean()\n",
    "pflip_out = state_avg_pflip<pflip_km.cluster_centers_.mean()"
   ]
  },
  {
   "cell_type": "code",
   "execution_count": 42,
   "metadata": {},
   "outputs": [],
   "source": [
    "p_out  = np.array([sd[fully_bound*pflip_out].sum()/sd[fully_bound].sum() for sd in sample_statdist])"
   ]
  },
  {
   "cell_type": "code",
   "execution_count": 43,
   "metadata": {},
   "outputs": [
    {
     "name": "stdout",
     "output_type": "stream",
     "text": [
      "p_out 0.9795613471026177 (0.9691139727764645, 0.9863009638851011)\n",
      "p_in 0.020438652897382302 (0.01370601204709764, 0.030928156561793017)\n"
     ]
    }
   ],
   "source": [
    "print(\"p_out\", np.mean(p_out), confidence_interval(p_out))\n",
    "print(\"p_in\", np.mean(1-p_out), confidence_interval(1-p_out))\n"
   ]
  },
  {
   "cell_type": "code",
   "execution_count": 44,
   "metadata": {},
   "outputs": [],
   "source": [
    "dgs_in_out = -kbT_300K_kjmol*np.log(p_out/(1-p_out))"
   ]
  },
  {
   "cell_type": "code",
   "execution_count": 45,
   "metadata": {},
   "outputs": [
    {
     "name": "stdout",
     "output_type": "stream",
     "text": [
      "Delta G -9.709202826829118 (-10.68638677717107, -8.623156140963323)\n"
     ]
    }
   ],
   "source": [
    "print(\"Delta G\", np.mean(dgs_in_out), confidence_interval(dgs_in_out))\n"
   ]
  },
  {
   "cell_type": "code",
   "execution_count": null,
   "metadata": {},
   "outputs": [],
   "source": [
    "sample_mfpt_out_in = model.sample_f('mfpt', np.where(fully_bound*pflip_out)[0], \n",
    "                                        np.where(fully_bound*pflip_in)[0])\n",
    "sample_mfpt_in_out = model.sample_f('mfpt', np.where(fully_bound*pflip_in)[0],\n",
    "                                        np.where(fully_bound*pflip_out)[0])"
   ]
  },
  {
   "cell_type": "code",
   "execution_count": null,
   "metadata": {},
   "outputs": [],
   "source": [
    "np.mean(1e9/np.array(sample_mfpt_out_in)), confidence_interval(1e9/np.array(sample_mfpt_out_in))"
   ]
  },
  {
   "cell_type": "code",
   "execution_count": null,
   "metadata": {},
   "outputs": [],
   "source": [
    "np.mean(1e9/np.array(sample_mfpt_in_out)), confidence_interval(1e9/np.array(sample_mfpt_in_out))"
   ]
  },
  {
   "cell_type": "markdown",
   "metadata": {},
   "source": [
    "# Peptide flip intermediate"
   ]
  },
  {
   "cell_type": "code",
   "execution_count": 46,
   "metadata": {},
   "outputs": [],
   "source": [
    "p_out  = np.array([sd[im_states*pflip_out].sum()/sd[im_states].sum() for sd in sample_statdist])"
   ]
  },
  {
   "cell_type": "code",
   "execution_count": 47,
   "metadata": {},
   "outputs": [
    {
     "name": "stdout",
     "output_type": "stream",
     "text": [
      "p_out 0.9830031121534585 (0.9583567724829786, 0.990830639834943)\n",
      "p_in 0.016996887846541513 (0.009177530072854, 0.041705814132439956)\n"
     ]
    }
   ],
   "source": [
    "print(\"p_out\", np.mean(p_out), confidence_interval(p_out))\n",
    "print(\"p_in\", np.mean(1-p_out), confidence_interval(1-p_out))\n"
   ]
  },
  {
   "cell_type": "code",
   "execution_count": 165,
   "metadata": {},
   "outputs": [],
   "source": [
    "dgs_in_out = -kbT_300K_kjmol*np.log(p_out/(1-p_out))"
   ]
  },
  {
   "cell_type": "code",
   "execution_count": 166,
   "metadata": {},
   "outputs": [
    {
     "name": "stdout",
     "output_type": "stream",
     "text": [
      "Delta G -10.31932995269696 (-11.715049290838435, -7.942908058633596)\n"
     ]
    }
   ],
   "source": [
    "print(\"Delta G\", np.mean(dgs_in_out), confidence_interval(dgs_in_out))\n"
   ]
  },
  {
   "cell_type": "code",
   "execution_count": 167,
   "metadata": {},
   "outputs": [],
   "source": [
    "sample_mfpt_out_in = model.sample_f('mfpt', np.where(fully_bound*pflip_out)[0], \n",
    "                                        np.where(fully_bound*pflip_in)[0])\n",
    "sample_mfpt_in_out = model.sample_f('mfpt', np.where(fully_bound*pflip_in)[0],\n",
    "                                        np.where(fully_bound*pflip_out)[0])"
   ]
  },
  {
   "cell_type": "code",
   "execution_count": 168,
   "metadata": {},
   "outputs": [
    {
     "data": {
      "text/plain": [
       "(42069.30364158985, (30326.133293546794, 57139.808815201446))"
      ]
     },
     "execution_count": 168,
     "metadata": {},
     "output_type": "execute_result"
    }
   ],
   "source": [
    "np.mean(1e9/np.array(sample_mfpt_out_in)), confidence_interval(1e9/np.array(sample_mfpt_out_in))"
   ]
  },
  {
   "cell_type": "code",
   "execution_count": 169,
   "metadata": {},
   "outputs": [
    {
     "data": {
      "text/plain": [
       "(3900101.6671427996, (1832378.1626716938, 5719054.755215903))"
      ]
     },
     "execution_count": 169,
     "metadata": {},
     "output_type": "execute_result"
    }
   ],
   "source": [
    "np.mean(1e9/np.array(sample_mfpt_in_out)), confidence_interval(1e9/np.array(sample_mfpt_in_out))"
   ]
  },
  {
   "cell_type": "markdown",
   "metadata": {},
   "source": [
    "# C-term mode"
   ]
  },
  {
   "cell_type": "code",
   "execution_count": 72,
   "metadata": {},
   "outputs": [],
   "source": [
    "km_cterm = pyemma.load('cluster_tica_cterm.pyemma')"
   ]
  },
  {
   "cell_type": "code",
   "execution_count": 73,
   "metadata": {},
   "outputs": [],
   "source": [
    "boundary_cterm_mode = km_cterm.cluster_centers_[np.argsort(km_cterm.cluster_centers_[:,0]),0][1:3].mean()"
   ]
  },
  {
   "cell_type": "code",
   "execution_count": 74,
   "metadata": {},
   "outputs": [],
   "source": [
    "pflip_compact = state_avg_CTICM<boundary_cterm_mode\n",
    "pflip_extended = state_avg_CTICM>boundary_cterm_mode"
   ]
  },
  {
   "cell_type": "code",
   "execution_count": 66,
   "metadata": {},
   "outputs": [],
   "source": [
    "p_compact  = np.array([sd[fully_bound*pflip_compact].sum()/sd[fully_bound].sum() for sd in sample_statdist])"
   ]
  },
  {
   "cell_type": "code",
   "execution_count": 67,
   "metadata": {},
   "outputs": [
    {
     "name": "stdout",
     "output_type": "stream",
     "text": [
      "p_compact 0.05828268903216827 (0.04251380471390297, 0.07846638079193392)\n",
      "p_extended 0.9417173109678317 (0.921534021607591, 0.9575352233078646)\n"
     ]
    }
   ],
   "source": [
    "print(\"p_compact\", np.mean(p_compact), confidence_interval(p_compact))\n",
    "print(\"p_extended\", np.mean(1-p_compact), confidence_interval(1-p_compact))\n"
   ]
  },
  {
   "cell_type": "code",
   "execution_count": 68,
   "metadata": {},
   "outputs": [],
   "source": [
    "dgs_extended_compact = -kbT_300K_kjmol*np.log(p_compact/(1-p_compact))"
   ]
  },
  {
   "cell_type": "code",
   "execution_count": 69,
   "metadata": {},
   "outputs": [
    {
     "name": "stdout",
     "output_type": "stream",
     "text": [
      "Delta G 6.972016387486274 (6.150649384896827, 7.779796064028787)\n"
     ]
    }
   ],
   "source": [
    "print(\"Delta G\", np.mean(dgs_extended_compact), confidence_interval(dgs_extended_compact))\n"
   ]
  },
  {
   "cell_type": "code",
   "execution_count": 70,
   "metadata": {},
   "outputs": [],
   "source": [
    "sample_mfpt_extended_compact = model.sample_f('mfpt', np.where(fully_bound*pflip_extended)[0], \n",
    "                                        np.where(fully_bound*pflip_compact)[0])\n",
    "sample_mfpt_compact_extended = model.sample_f('mfpt', np.where(fully_bound*pflip_compact)[0],\n",
    "                                        np.where(fully_bound*pflip_extended)[0])"
   ]
  },
  {
   "cell_type": "code",
   "execution_count": 71,
   "metadata": {},
   "outputs": [
    {
     "data": {
      "text/plain": [
       "(54592.29699873502, (41292.622591641426, 70890.90063999775))"
      ]
     },
     "execution_count": 71,
     "metadata": {},
     "output_type": "execute_result"
    }
   ],
   "source": [
    "np.mean(1e9/np.array(sample_mfpt_extended_compact)), confidence_interval(1e9/np.array(sample_mfpt_extended_compact))"
   ]
  },
  {
   "cell_type": "code",
   "execution_count": 72,
   "metadata": {},
   "outputs": [
    {
     "data": {
      "text/plain": [
       "(1755466.7596067907, (1240330.8024319715, 2304201.709819965))"
      ]
     },
     "execution_count": 72,
     "metadata": {},
     "output_type": "execute_result"
    }
   ],
   "source": [
    "np.mean(1e9/np.array(sample_mfpt_compact_extended)), confidence_interval(1e9/np.array(sample_mfpt_compact_extended))"
   ]
  },
  {
   "cell_type": "markdown",
   "metadata": {},
   "source": [
    "# C-term intermediate"
   ]
  },
  {
   "cell_type": "code",
   "execution_count": 73,
   "metadata": {},
   "outputs": [],
   "source": [
    "km_cterm = pyemma.load('cluster_tica_cterm.pyemma')"
   ]
  },
  {
   "cell_type": "code",
   "execution_count": 74,
   "metadata": {},
   "outputs": [],
   "source": [
    "boundary_cterm_mode = km_cterm.cluster_centers_[np.argsort(km_cterm.cluster_centers_[:,0]),0][1:3].mean()"
   ]
  },
  {
   "cell_type": "code",
   "execution_count": 75,
   "metadata": {},
   "outputs": [
    {
     "name": "stdout",
     "output_type": "stream",
     "text": [
      "-0.58724415\n"
     ]
    }
   ],
   "source": [
    "print(boundary_cterm_mode)"
   ]
  },
  {
   "cell_type": "code",
   "execution_count": 76,
   "metadata": {},
   "outputs": [],
   "source": [
    "pflip_compact = state_avg_CTICM<boundary_cterm_mode\n",
    "pflip_extended = state_avg_CTICM>boundary_cterm_mode"
   ]
  },
  {
   "cell_type": "code",
   "execution_count": 77,
   "metadata": {},
   "outputs": [],
   "source": [
    "p_compact  = np.array([sd[im_states*pflip_compact].sum()/sd[im_states].sum() for sd in sample_statdist])"
   ]
  },
  {
   "cell_type": "code",
   "execution_count": 78,
   "metadata": {},
   "outputs": [
    {
     "name": "stdout",
     "output_type": "stream",
     "text": [
      "p_compact 0.024439187802565394 (0.017281374605716666, 0.034178848487944787)\n",
      "p_extended 0.9755608121974346 (0.9658215820316187, 0.982728944027942)\n"
     ]
    }
   ],
   "source": [
    "print(\"p_compact\", np.mean(p_compact), confidence_interval(p_compact))\n",
    "print(\"p_extended\", np.mean(1-p_compact), confidence_interval(1-p_compact))\n"
   ]
  },
  {
   "cell_type": "code",
   "execution_count": 79,
   "metadata": {},
   "outputs": [],
   "source": [
    "dgs_extended_compact = -kbT_300K_kjmol*np.log(p_compact/(1-p_compact))"
   ]
  },
  {
   "cell_type": "code",
   "execution_count": 80,
   "metadata": {},
   "outputs": [
    {
     "name": "stdout",
     "output_type": "stream",
     "text": [
      "Delta G 9.237862797884302 (8.350147569403143, 10.08855425411068)\n"
     ]
    }
   ],
   "source": [
    "print(\"Delta G\", np.mean(dgs_extended_compact), confidence_interval(dgs_extended_compact))\n"
   ]
  },
  {
   "cell_type": "code",
   "execution_count": null,
   "metadata": {},
   "outputs": [],
   "source": []
  },
  {
   "cell_type": "code",
   "execution_count": 49,
   "metadata": {},
   "outputs": [
    {
     "data": {
      "text/plain": [
       "1.0868273173255563e-05"
      ]
     },
     "execution_count": 49,
     "metadata": {},
     "output_type": "execute_result"
    }
   ],
   "source": [
    "tpt_.total_flux"
   ]
  },
  {
   "cell_type": "code",
   "execution_count": 50,
   "metadata": {},
   "outputs": [
    {
     "data": {
      "text/plain": [
       "<Figure size 864x864 with 0 Axes>"
      ]
     },
     "metadata": {},
     "output_type": "display_data"
    }
   ],
   "source": [
    "#tpt_=pyemma.msm.tpt(model, np.where(new_membership.argmax(axis=1)==unbound)[0], np.where(new_membership.argmax(axis=1)==bound)[0])\n",
    "mflux = tpt_.coarse_grain([np.where(new_membership.argmax(axis=1)==i)[0] for i in range(new_membership.shape[1])])\n",
    "pos_=pyemma.plots.plot_flux(mflux[-1],minflux=5e-7, state_labels=[str(i) for i in [15,0,1,2,3,4,5,6,7,8,9,10,11,12,13,14]]);\n",
    "plt.clf()"
   ]
  },
  {
   "cell_type": "code",
   "execution_count": 51,
   "metadata": {},
   "outputs": [
    {
     "data": {
      "text/plain": [
       "(1687029,)"
      ]
     },
     "execution_count": 51,
     "metadata": {},
     "output_type": "execute_result"
    }
   ],
   "source": [
    "traj_weights.shape"
   ]
  },
  {
   "cell_type": "code",
   "execution_count": 87,
   "metadata": {},
   "outputs": [],
   "source": [
    "cterm_cg_stateavg_m3=np.array([np.average(cterm_order_cat[new_membership3[dtrajscat,:].argmax(axis=1)==i], weights=traj_weights[new_membership3[dtrajscat,:].argmax(axis=1)==i]) for i in range(17)])\n",
    "pincer_cg_stateavg_m3=np.array([np.average(pincercat[new_membership3[dtrajscat,:].argmax(axis=1)==i], weights=traj_weights[new_membership3[dtrajscat,:].argmax(axis=1)==i]) for i in range(17)])\n",
    "pflip_cg_stateavg_m3=np.array([np.average(pflipcat[new_membership3[dtrajscat,:].argmax(axis=1)==i], weights=traj_weights[new_membership3[dtrajscat,:].argmax(axis=1)==i]) for i in range(17)])"
   ]
  },
  {
   "cell_type": "code",
   "execution_count": 53,
   "metadata": {},
   "outputs": [],
   "source": [
    "cterm_cg_stateavg=np.array([cterm_order_cat[new_membership[dtrajscat,:].argmax(axis=1)==i].mean() for i in range(16)])\n",
    "pincer_cg_stateavg=np.array([pincercat[new_membership[dtrajscat,:].argmax(axis=1)==i].mean() for i in range(16)])\n",
    "pflip_cg_stateavg=np.array([pflipcat[new_membership[dtrajscat,:].argmax(axis=1)==i].mean() for i in range(16)])"
   ]
  },
  {
   "cell_type": "code",
   "execution_count": 54,
   "metadata": {},
   "outputs": [],
   "source": [
    "cterm_cg_stateavg_m2=np.array([cterm_order_cat[new_membership3[dtrajscat,:].argmax(axis=1)==i].mean() for i in range(17)])\n",
    "pincer_cg_stateavg_m2=np.array([pincercat[new_membership2[dtrajscat,:].argmax(axis=1)==i].mean() for i in range(17)])\n",
    "pflip_cg_stateavg_m2=np.array([pflipcat[new_membership2[dtrajscat,:].argmax(axis=1)==i].mean() for i in range(17)])"
   ]
  },
  {
   "cell_type": "code",
   "execution_count": 55,
   "metadata": {},
   "outputs": [
    {
     "name": "stdout",
     "output_type": "stream",
     "text": [
      "0 0.57\n",
      "1 0.93\n",
      "2 0.58\n",
      "3 0.52\n",
      "4 0.92\n",
      "5 0.59\n",
      "6 0.66\n",
      "7 0.51\n",
      "8 0.57\n",
      "9 0.8\n",
      "10 0.8\n",
      "11 0.85\n",
      "12 0.75\n",
      "13 0.67\n",
      "14 1.0\n",
      "15 0.0\n"
     ]
    }
   ],
   "source": [
    "state_names = np.array([15,0,1,2,3,4,5,6,7,8,9,10,11,12,13,14])\n",
    "state_committors = pos_[1][:,0]\n",
    "_xorder = np.argsort(state_names)\n",
    "for i,j in zip(state_names[_xorder], state_committors[_xorder].round(2)):\n",
    "    print(i, j)\n",
    "\n"
   ]
  },
  {
   "cell_type": "code",
   "execution_count": 56,
   "metadata": {},
   "outputs": [],
   "source": [
    "pos_[1][:,1] = cterm_cg_stateavg[[15,0,1,2,3,4,5,6,7,8,9,10,11,12,13,14]]\n",
    "\n",
    "positions = pos_[1]\n",
    "\n",
    "positions_pincer = positions.copy()\n",
    "positions_pincer[:,1] = pincer_cg_stateavg[[15,0,1,2,3,4,5,6,7,8,9,10,11,12,13,14]]\n",
    "positions_pflip = positions.copy()\n",
    "positions_pflip[:,1] = pflip_cg_stateavg[[15,0,1,2,3,4,5,6,7,8,9,10,11,12,13,14]]\n"
   ]
  },
  {
   "cell_type": "code",
   "execution_count": 57,
   "metadata": {},
   "outputs": [],
   "source": [
    "def plot_net_flux(flux, \n",
    "                  pos, \n",
    "                  ax=None,\n",
    "                  minimal_flux = 1e-7, \n",
    "                  node_labels = None,\n",
    "                  flux_scale=1e1):\n",
    "    \"\"\"\n",
    "    Custom flux plot, removes nodes and edges which are not connect to source and sink states, to minimize.\n",
    "    \"\"\"\n",
    "    #count in-going and out-going nodes to draw\n",
    "    edges_per_nodes = np.sum(flux.net_flux[:,:] > minimal_flux, axis = 0) \\\n",
    "                    + np.sum(flux.net_flux[:,:] > minimal_flux, axis = 1)\n",
    "    \n",
    "    circ_sizes = flux.stationary_distribution\n",
    "    \n",
    "    if ax == None:\n",
    "        ax = plt.gca()\n",
    "    circles=[]\n",
    "    for i,ne in enumerate(edges_per_nodes):\n",
    "        # select only nodes with atleast \n",
    "        if ne>2:\n",
    "            c = plt.Circle(\n",
    "                pos[i], radius=np.sqrt(\n",
    "                    0.5 * circ_sizes[i]) / 6.0,\n",
    "                color='c', zorder=2)\n",
    "            circles.append(c)\n",
    "            ax.add_artist(c)\n",
    "        # add annotation\n",
    "            if node_labels is not None:\n",
    "                ax.text(pos[i][0], \n",
    "                        pos[i][1], \n",
    "                        node_labels[i], \n",
    "                        zorder=3, \n",
    "                        horizontalalignment='center',\n",
    "                        verticalalignment='center')#, **textkwargs)\n",
    "\n",
    "            # draw arrows\n",
    "            for j in np.where(flux.net_flux[i,:]>minimal_flux)[0]:\n",
    "                if edges_per_nodes[j]>2:\n",
    "                    xx, yy = [pos[i][0], pos[j][0]], [pos[i][1], pos[j][1]]\n",
    "                    ax.plot(xx, yy, lw = flux_scale * flux.net_flux[i,j]/flux.net_flux.sum(), c='c')\n",
    "     "
   ]
  },
  {
   "cell_type": "code",
   "execution_count": 58,
   "metadata": {},
   "outputs": [
    {
     "data": {
      "image/png": "[encoded data removed]",
      "text/plain": [
       "<Figure size 288x576 with 3 Axes>"
      ]
     },
     "metadata": {
      "needs_background": "light"
     },
     "output_type": "display_data"
    }
   ],
   "source": [
    "fig,ax=plt.subplots(3,figsize=(4,8),sharex=True)\n",
    "minimal_flux = 5e-7\n",
    "plot_net_flux(mflux[-1], \n",
    "              pos=positions, \n",
    "              ax=ax[0], \n",
    "              node_labels=[str(i) for i in [15,0,1,2,3,4,5,6,7,8,9,10,11,12,13,14]], \n",
    "              flux_scale=20)\n",
    "\n",
    "plot_net_flux(mflux[-1], \n",
    "              pos=positions_pincer, \n",
    "              ax=ax[1], \n",
    "              node_labels=[str(i) for i in [15,0,1,2,3,4,5,6,7,8,9,10,11,12,13,14]], \n",
    "              flux_scale=20)\n",
    "\n",
    "plot_net_flux(mflux[-1], \n",
    "              pos=positions_pflip, \n",
    "              ax=ax[2], \n",
    "              node_labels=[str(i) for i in [15,0,1,2,3,4,5,6,7,8,9,10,11,12,13,14]], \n",
    "              flux_scale=20)\n",
    "\n",
    "ax[2].set_xlim([-0.05,1.08])\n",
    "ax[2].set_ylabel('peptide flip mode');\n",
    "ax[2].set_xlabel('committor');\n",
    "\n",
    "#\n",
    "ax[1].set_ylabel('Pincer mode');\n",
    "#ax.set_yticks(np.linspace(-0.1, 0.6, 4).round(2));\n",
    "\n",
    "ax[0].set_ylabel('C-term mode');\n",
    "#ax.set_yticks(np.linspace(-1.1, 0.6, 4).round(2));\n",
    "plt.tight_layout()\n",
    "plt.savefig(\"order_param_committor_pcca.pdf\")"
   ]
  },
  {
   "cell_type": "code",
   "execution_count": 161,
   "metadata": {},
   "outputs": [
    {
     "data": {
      "text/plain": [
       "<Figure size 864x864 with 0 Axes>"
      ]
     },
     "metadata": {},
     "output_type": "display_data"
    }
   ],
   "source": [
    "#tpt_=pyemma.msm.tpt(model, np.where(new_membership.argmax(axis=1)==unbound)[0], np.where(new_membership.argmax(axis=1)==bound)[0])\n",
    "mflux_two_unbound = tpt_.coarse_grain([np.where(new_membership3.argmax(axis=1)==i)[0] for i in range(new_membership3.shape[1])])\n",
    "pos_=pyemma.plots.plot_flux(mflux_two_unbound[-1],minflux=5e-7, state_labels=[str(i) for i in [15,16,0,1,2,3,4,5,6,7,8,9,10,11,12,13,14]]);\n",
    "plt.clf()\n",
    "\n",
    "pos_[1][:,1] = cterm_cg_stateavg_m3[[15,16,0,1,2,3,4,5,6,7,8,9,10,11,12,13,14]]\n",
    "\n",
    "positions = pos_[1]\n",
    "\n",
    "positions_pincer = positions.copy()\n",
    "positions_pincer[:,1] = pincer_cg_stateavg_m3[[15,16,0,1,2,3,4,5,6,7,8,9,10,11,12,13,14]]\n",
    "positions_pflip = positions.copy()\n",
    "positions_pflip[:,1] = pflip_cg_stateavg_m3[[15,16,0,1,2,3,4,5,6,7,8,9,10,11,12,13,14]]\n"
   ]
  },
  {
   "cell_type": "code",
   "execution_count": 162,
   "metadata": {},
   "outputs": [
    {
     "data": {
      "image/png": "[encoded data removed]",
      "text/plain": [
       "<Figure size 288x576 with 3 Axes>"
      ]
     },
     "metadata": {
      "needs_background": "light"
     },
     "output_type": "display_data"
    }
   ],
   "source": [
    "fig,ax=plt.subplots(3,figsize=(4,8),sharex=True)\n",
    "minimal_flux = 5e-7\n",
    "plot_net_flux(mflux_two_unbound[-1], \n",
    "              pos=positions, \n",
    "              ax=ax[0], \n",
    "              node_labels=[str(i) for i in [15,16,0,1,2,3,4,5,6,7,8,9,10,11,12,13,14]], \n",
    "              flux_scale=20)\n",
    "\n",
    "plot_net_flux(mflux_two_unbound[-1], \n",
    "              pos=positions_pincer, \n",
    "              ax=ax[1], \n",
    "              node_labels=[str(i) for i in [15,16,0,1,2,3,4,5,6,7,8,9,10,11,12,13,14]], \n",
    "              flux_scale=20)\n",
    "\n",
    "plot_net_flux(mflux_two_unbound[-1], \n",
    "              pos=positions_pflip, \n",
    "              ax=ax[2], \n",
    "              node_labels=[str(i) for i in [15,16,0,1,2,3,4,5,6,7,8,9,10,11,12,13,14]], \n",
    "              flux_scale=20)\n",
    "\n",
    "ax[2].set_xlim([-0.05,1.08])\n",
    "ax[2].set_ylabel('peptide flip mode');\n",
    "ax[2].set_xlabel('committor');\n",
    "\n",
    "#\n",
    "ax[1].set_ylabel('Pincer mode');\n",
    "#ax.set_yticks(np.linspace(-0.1, 0.6, 4).round(2));\n",
    "\n",
    "ax[0].set_ylabel('C-term mode');\n",
    "\n",
    "#ax.set_yticks(np.linspace(-1.1, 0.6, 4).round(2));\n",
    "plt.tight_layout()\n",
    "plt.savefig('association_plot.pdf')"
   ]
  },
  {
   "cell_type": "code",
   "execution_count": 163,
   "metadata": {},
   "outputs": [
    {
     "data": {
      "image/png": "[encoded data removed]",
      "text/plain": [
       "<Figure size 288x266.4 with 1 Axes>"
      ]
     },
     "metadata": {
      "needs_background": "light"
     },
     "output_type": "display_data"
    }
   ],
   "source": [
    "fig,ax=plt.subplots(1,figsize=(4,3.7),sharex=True)\n",
    "minimal_flux = 5e-7\n",
    "plot_net_flux(mflux_two_unbound[-1], \n",
    "              pos=positions, \n",
    "              ax=ax, \n",
    "              node_labels=[str(i) for i in [\"15\",\"16\",0,1,2,3,4,5,6,7,8,9,10,11,12,13,14]], \n",
    "              flux_scale=20)\n",
    "ax.set_xlabel('committor');\n",
    "\n",
    "\n",
    "ax.set_xlim([-0.05, 1.1])\n",
    "ax.set_ylabel('C-term mode');\n",
    "ax.set_yticks(np.linspace(-1.1, 0.6, 4).round(2));\n",
    "\n",
    "ax.arrow( 0.28, 0.05, 0.4, 0.0, width=0.01, fill=None, transform=ax.transAxes)\n",
    "ax.text( 0.5, 0.09, \"Net flux\", transform=ax.transAxes, verticalalignment='center', horizontalalignment='center')\n",
    "\n",
    "plt.tight_layout()\n",
    "plt.savefig('association_plot_ctermonly.pdf')"
   ]
  },
  {
   "cell_type": "code",
   "execution_count": 94,
   "metadata": {},
   "outputs": [],
   "source": [
    "#tpt_=pyemma.msm.tpt(model, np.where(new_membership.argmax(axis=1)==unbound)[0], np.where(new_membership.argmax(axis=1)==bound)[0])\n",
    "#mflux = tpt_.coarse_grain([np.where(new_membership.argmax(axis=1)==i)[0] for i in range(new_membership.shape[1])])\n",
    "#pos_=pyemma.plots.plot_flux(mflux[-1],minflux=5e-7, state_labels=[str(i) for i in [15,0,1,2,3,4,5,6,7,8,9,10,11,12,13,14]]);"
   ]
  },
  {
   "cell_type": "markdown",
   "metadata": {},
   "source": [
    "# PCCA state distribution"
   ]
  },
  {
   "cell_type": "code",
   "execution_count": 108,
   "metadata": {},
   "outputs": [],
   "source": [
    "cg_distribution = [[ sd[new_membership3.argmax(axis=1)==i].sum() for i in range(17)] for sd in model.sample_f('stationary_distribution')]         "
   ]
  },
  {
   "cell_type": "code",
   "execution_count": 109,
   "metadata": {},
   "outputs": [
    {
     "data": {
      "image/png": "[encoded data removed]",
      "text/plain": [
       "<Figure size 288x144 with 1 Axes>"
      ]
     },
     "metadata": {
      "needs_background": "light"
     },
     "output_type": "display_data"
    }
   ],
   "source": [
    "mean_cg_dist = np.array(cg_distribution).mean(axis=0)\n",
    "ci_cg_lo, ci_cg_hi = confidence_interval(np.array(cg_distribution), conf=.95)\n",
    "\n",
    "\n",
    "fig, ax = plt.subplots(1, figsize=(4,2))\n",
    "ax.bar(np.arange(17), mean_cg_dist, fill=None, yerr=(-ci_cg_lo + mean_cg_dist , ci_cg_hi - mean_cg_dist ))\n",
    "ax.semilogy()\n",
    "ax.set_xticks(np.arange(17))\n",
    "ax.set_xticklabels(np.arange(17), rotation=45)\n",
    "ax.set_xlabel('state')\n",
    "ax.set_ylabel('state probability')\n",
    "plt.tight_layout()\n",
    "plt.savefig('statedistribution_pcca.pdf')"
   ]
  },
  {
   "cell_type": "code",
   "execution_count": 77,
   "metadata": {},
   "outputs": [
    {
     "data": {
      "application/vnd.jupyter.widget-view+json": {
       "model_id": "",
       "version_major": 2,
       "version_minor": 0
      },
      "text/plain": [
       "HBox(children=(FloatProgress(value=0.0, description='Obtaining file info', layout=Layout(flex='2'), max=1015.0…"
      ]
     },
     "metadata": {},
     "output_type": "display_data"
    },
    {
     "name": "stdout",
     "output_type": "stream",
     "text": [
      "\r"
     ]
    }
   ],
   "source": [
    "nfsource = pyemma.coordinates.source([f\"joined_strided_trajectories/trajectory_{i}.xtc\" for i in range(1015) if i not in skippable], top=\"align_topol.pdb\")"
   ]
  },
  {
   "cell_type": "code",
   "execution_count": 78,
   "metadata": {},
   "outputs": [],
   "source": [
    "import mdtraj as md"
   ]
  },
  {
   "cell_type": "code",
   "execution_count": 79,
   "metadata": {},
   "outputs": [],
   "source": [
    "pdb_2k6d = md.load('2k6d_suppos.pdb')\n",
    "pdb_2jt4 = md.load('2jt4_suppos.pdb')"
   ]
  },
  {
   "cell_type": "markdown",
   "metadata": {},
   "source": [
    "## Atom-selections for RMSD calculations of equivalent sites\n",
    "Coordinates are pre-superpositioned to a common reference frame so we can simply compute root-mean-square deviation between a reference and frames in the model"
   ]
  },
  {
   "cell_type": "code",
   "execution_count": 80,
   "metadata": {},
   "outputs": [],
   "source": [
    "def rmsd_to_reference(model_trajectory, reference, index_selection, index_selection_ref):\n",
    "    return np.sqrt(((model_trajectory.xyz[:,index_selection,:] - \n",
    "                     reference.xyz[:,index_selection_ref,:])**2.).mean(axis=-1).mean(axis=-1))\n",
    "atom_idx_model_2_2k6d = np.concatenate(\n",
    "    [nfsource.featurizer.topology.select('name CA and (resid 83 to 144)'), \n",
    "    nfsource.featurizer.topology.select('name CA and (resid 0 to 75 )')] )\n",
    "\n",
    "selected_cas_model = list(range(10,22))+list(range(23,40))+list(range(46,52))+list(range(54,65))\n",
    "\n",
    "atom_idx_model_2_2jt4 = np.concatenate(\n",
    "    [nfsource.featurizer.topology.select('name CA and (resid 76 to 150 )')[selected_cas_model],\n",
    "     nfsource.featurizer.topology.select('name CA and (resid 0 to 75)')\n",
    "    ] )\n",
    "\n",
    "selected_cas = list(range(6, 18))+list(range(18,35))+list(range(41,47))+list(range(51,62))\n",
    "atom_idx_2jt4_ = np.concatenate([pdb_2jt4.topology.select('name CA')[selected_cas],\n",
    "                               pdb_2jt4.topology.select('name CA')[-76:]])"
   ]
  },
  {
   "cell_type": "markdown",
   "metadata": {},
   "source": [
    "## Compute RMSDs to the two experimental structures against representatives in the PCCA states of the MSM"
   ]
  },
  {
   "cell_type": "code",
   "execution_count": 81,
   "metadata": {},
   "outputs": [],
   "source": [
    "representative_clusters = [(new_membership[:,i]*model.stationary_distribution).argmax() for i in range(16)]"
   ]
  },
  {
   "cell_type": "code",
   "execution_count": 82,
   "metadata": {},
   "outputs": [
    {
     "data": {
      "text/plain": [
       "[559, 59, 368, 405, 224, 337, 296, 325, 57, 36, 37, 40, 189, 138, 29, 443]"
      ]
     },
     "execution_count": 82,
     "metadata": {},
     "output_type": "execute_result"
    }
   ],
   "source": [
    "representative_clusters"
   ]
  },
  {
   "cell_type": "code",
   "execution_count": 83,
   "metadata": {},
   "outputs": [],
   "source": [
    "samples_from_repr_state = model.sample_by_state(512, subset=representative_clusters, replace=False)\n",
    "\n",
    "state_ex=[pyemma.coordinates.save_traj(nfsource, sr, outfile=None) for sr in samples_from_repr_state]"
   ]
  },
  {
   "cell_type": "code",
   "execution_count": 84,
   "metadata": {
    "scrolled": false
   },
   "outputs": [
    {
     "data": {
      "image/png": "[encoded data removed]",
      "text/plain": [
       "<Figure size 432x288 with 1 Axes>"
      ]
     },
     "metadata": {
      "needs_background": "light"
     },
     "output_type": "display_data"
    },
    {
     "data": {
      "image/png": "[encoded data removed]",
      "text/plain": [
       "<Figure size 432x288 with 1 Axes>"
      ]
     },
     "metadata": {
      "needs_background": "light"
     },
     "output_type": "display_data"
    },
    {
     "data": {
      "image/png": "[encoded data removed]",
      "text/plain": [
       "<Figure size 432x288 with 1 Axes>"
      ]
     },
     "metadata": {
      "needs_background": "light"
     },
     "output_type": "display_data"
    },
    {
     "data": {
      "image/png": "[encoded data removed]",
      "text/plain": [
       "<Figure size 432x288 with 1 Axes>"
      ]
     },
     "metadata": {
      "needs_background": "light"
     },
     "output_type": "display_data"
    },
    {
     "data": {
      "image/png": "[encoded data removed]",
      "text/plain": [
       "<Figure size 432x288 with 1 Axes>"
      ]
     },
     "metadata": {
      "needs_background": "light"
     },
     "output_type": "display_data"
    },
    {
     "data": {
      "image/png": "[encoded data removed]",
      "text/plain": [
       "<Figure size 432x288 with 1 Axes>"
      ]
     },
     "metadata": {
      "needs_background": "light"
     },
     "output_type": "display_data"
    },
    {
     "data": {
      "image/png": "[encoded data removed]",
      "text/plain": [
       "<Figure size 432x288 with 1 Axes>"
      ]
     },
     "metadata": {
      "needs_background": "light"
     },
     "output_type": "display_data"
    },
    {
     "data": {
      "image/png": "[encoded data removed]",
      "text/plain": [
       "<Figure size 432x288 with 1 Axes>"
      ]
     },
     "metadata": {
      "needs_background": "light"
     },
     "output_type": "display_data"
    },
    {
     "data": {
      "image/png": "[encoded data removed]",
      "text/plain": [
       "<Figure size 432x288 with 1 Axes>"
      ]
     },
     "metadata": {
      "needs_background": "light"
     },
     "output_type": "display_data"
    },
    {
     "data": {
      "image/png": "[encoded data removed]",
      "text/plain": [
       "<Figure size 432x288 with 1 Axes>"
      ]
     },
     "metadata": {
      "needs_background": "light"
     },
     "output_type": "display_data"
    },
    {
     "data": {
      "image/png": "[encoded data removed]",
      "text/plain": [
       "<Figure size 432x288 with 1 Axes>"
      ]
     },
     "metadata": {
      "needs_background": "light"
     },
     "output_type": "display_data"
    },
    {
     "data": {
      "image/png": "[encoded data removed]",
      "text/plain": [
       "<Figure size 432x288 with 1 Axes>"
      ]
     },
     "metadata": {
      "needs_background": "light"
     },
     "output_type": "display_data"
    },
    {
     "data": {
      "image/png": "[encoded data removed]",
      "text/plain": [
       "<Figure size 432x288 with 1 Axes>"
      ]
     },
     "metadata": {
      "needs_background": "light"
     },
     "output_type": "display_data"
    },
    {
     "data": {
      "image/png": "[encoded data removed]",
      "text/plain": [
       "<Figure size 432x288 with 1 Axes>"
      ]
     },
     "metadata": {
      "needs_background": "light"
     },
     "output_type": "display_data"
    },
    {
     "data": {
      "image/png": "[encoded data removed]",
      "text/plain": [
       "<Figure size 432x288 with 1 Axes>"
      ]
     },
     "metadata": {
      "needs_background": "light"
     },
     "output_type": "display_data"
    },
    {
     "data": {
      "image/png": "[encoded data removed]",
      "text/plain": [
       "<Figure size 432x288 with 1 Axes>"
      ]
     },
     "metadata": {
      "needs_background": "light"
     },
     "output_type": "display_data"
    }
   ],
   "source": [
    "for i,st in enumerate(state_ex):\n",
    "    plt.figure(i+1)\n",
    "    plt.title(f\"state {i}\")\n",
    "    plt.hist(rmsd_to_reference(st, pdb_2jt4, atom_idx_model_2_2jt4, atom_idx_2jt4_),bins=48,density=True,histtype='step');\n",
    "    plt.hist(rmsd_to_reference(st, pdb_2k6d, atom_idx_model_2_2k6d, pdb_2k6d.topology.select('name CA')),bins=48,density=True,histtype='step');\n",
    "    plt.xlim(0.05,1.5)\n",
    "    plt.xlabel('RMSD / nm')\n",
    "    plt.ylabel('frequency')"
   ]
  },
  {
   "cell_type": "code",
   "execution_count": 85,
   "metadata": {
    "scrolled": true
   },
   "outputs": [
    {
     "name": "stdout",
     "output_type": "stream",
     "text": [
      "bound state rmsd 2jt4: 0.21 (0.15232614501930664, 0.30947611705625616) nm\n",
      "bound state rmsd 2k6d: 0.38 (0.3322099558261753, 0.44748227889343184) nm\n"
     ]
    }
   ],
   "source": [
    "bound_state_rmsd_2jt4 = rmsd_to_reference(state_ex[-2], pdb_2jt4, atom_idx_model_2_2jt4, atom_idx_2jt4_)\n",
    "bound_state_rmsd_2k6d = rmsd_to_reference(state_ex[-2], pdb_2k6d, atom_idx_model_2_2k6d, pdb_2k6d.topology.select('name CA'))\n",
    "\n",
    "print(f\"bound state rmsd 2jt4: {bound_state_rmsd_2jt4.mean():.2f} {confidence_interval(bound_state_rmsd_2jt4)} nm\")\n",
    "print(f\"bound state rmsd 2k6d: {bound_state_rmsd_2k6d.mean():.2f} {confidence_interval(bound_state_rmsd_2k6d)} nm\")\n"
   ]
  },
  {
   "cell_type": "code",
   "execution_count": 86,
   "metadata": {},
   "outputs": [
    {
     "name": "stdout",
     "output_type": "stream",
     "text": [
      "pre-state rmsd 2jt4: 0.37 (0.3080046249613901, 0.42043241624687794) nm\n",
      "pre-state rmsd 2k6d: 0.35 (0.28874858009693793, 0.40687489108472513) nm\n"
     ]
    }
   ],
   "source": [
    "prebound_state_rmsd_2jt4 = rmsd_to_reference(state_ex[10], pdb_2jt4, atom_idx_model_2_2jt4, atom_idx_2jt4_)\n",
    "prebound_state_rmsd_2k6d = rmsd_to_reference(state_ex[10], pdb_2k6d, atom_idx_model_2_2k6d, pdb_2k6d.topology.select('name CA'))\n",
    "\n",
    "print(f\"pre-state rmsd 2jt4: {prebound_state_rmsd_2jt4.mean():.2f} {confidence_interval(prebound_state_rmsd_2jt4)} nm\")\n",
    "print(f\"pre-state rmsd 2k6d: {prebound_state_rmsd_2k6d.mean():.2f} {confidence_interval(prebound_state_rmsd_2k6d)} nm\")\n"
   ]
  },
  {
   "cell_type": "markdown",
   "metadata": {},
   "source": [
    "#### 2jt4 structure has lower RMSD to model than 2k6d structure in all states (except for state 10)\n",
    "State 10 is 'pre-bound state' (very low flux)"
   ]
  },
  {
   "cell_type": "code",
   "execution_count": 97,
   "metadata": {},
   "outputs": [],
   "source": [
    "bound_state_clusters = np.where(new_membership.argmax(axis=1)==14)[0]"
   ]
  },
  {
   "cell_type": "code",
   "execution_count": 88,
   "metadata": {},
   "outputs": [],
   "source": [
    "samples_bound_state_clusters = [model.sample_by_state(32, subset=[bs], replace=False) for bs in bound_state_clusters]"
   ]
  },
  {
   "cell_type": "code",
   "execution_count": 89,
   "metadata": {},
   "outputs": [],
   "source": [
    "state_bound_ = [pyemma.coordinates.save_traj(nfsource, sr, outfile=None) for sr in samples_bound_state_clusters]"
   ]
  },
  {
   "cell_type": "code",
   "execution_count": 90,
   "metadata": {},
   "outputs": [],
   "source": [
    "rmsds_to_ref = []\n",
    "for sb in state_bound_:\n",
    "    rmsds_to_ref.append([rmsd_to_reference(sb, \n",
    "                                            pdb_2jt4, \n",
    "                                            atom_idx_model_2_2jt4, \n",
    "                                            atom_idx_2jt4_),\n",
    "                         rmsd_to_reference(sb, \n",
    "                                           pdb_2k6d, \n",
    "                                           atom_idx_model_2_2k6d, \n",
    "                                           pdb_2k6d.topology.select('name CA'))])"
   ]
  },
  {
   "cell_type": "code",
   "execution_count": 91,
   "metadata": {},
   "outputs": [],
   "source": [
    "states_for_2k6d = []\n",
    "states_for_2jt4 = [] \n",
    "for i, r in zip(bound_state_clusters, rmsds_to_ref):\n",
    "    if r[0].mean() < r[1].mean():\n",
    "        states_for_2jt4.append(i)\n",
    "    else:\n",
    "        states_for_2k6d.append(i)\n"
   ]
  },
  {
   "cell_type": "code",
   "execution_count": 118,
   "metadata": {},
   "outputs": [
    {
     "data": {
      "text/plain": [
       "(602, 15)"
      ]
     },
     "execution_count": 118,
     "metadata": {},
     "output_type": "execute_result"
    }
   ],
   "source": [
    "model.metastable_memberships.shape"
   ]
  },
  {
   "cell_type": "code",
   "execution_count": 119,
   "metadata": {},
   "outputs": [],
   "source": [
    "new_membership_two_bound = model.metastable_memberships\n",
    "#new_membership_two_bound = np.hstack((new_membership_two_bound, np.zeros((model.nstates,1))))\n",
    "new_membership_two_bound[states_for_2k6d, -1] = 1.\n",
    "new_membership_two_bound[states_for_2k6d, :-1] = 0.\n",
    "new_membership_two_bound = np.hstack((new_membership_two_bound, np.zeros((model.nstates,1))))\n",
    "new_membership_two_bound[states_for_2jt4, -1] = 1.\n",
    "new_membership_two_bound[states_for_2jt4, :-1] = 0.\n",
    "new_membership_two_bound = np.hstack((new_membership_two_bound, np.zeros((model.nstates,1))))\n",
    "new_membership_two_bound[unbound_idx, -1] = 1.\n",
    "new_membership_two_bound[unbound_idx, :-1] = 0."
   ]
  },
  {
   "cell_type": "code",
   "execution_count": 120,
   "metadata": {},
   "outputs": [],
   "source": [
    "formankay_to_radhakrishnan_mfpt = model.sample_f('mfpt', states_for_2k6d, states_for_2jt4)\n",
    "radhakrishnan_to_formankay_mfpt = model.sample_f('mfpt',  states_for_2jt4, states_for_2k6d)"
   ]
  },
  {
   "cell_type": "code",
   "execution_count": 121,
   "metadata": {},
   "outputs": [
    {
     "name": "stdout",
     "output_type": "stream",
     "text": [
      "267646.5754596977 (202200.60122598874, 364157.34872568713)\n"
     ]
    }
   ],
   "source": [
    "print(1e9/np.mean(formankay_to_radhakrishnan_mfpt), confidence_interval(1e9/np.array(formankay_to_radhakrishnan_mfpt)))"
   ]
  },
  {
   "cell_type": "code",
   "execution_count": 122,
   "metadata": {},
   "outputs": [
    {
     "name": "stdout",
     "output_type": "stream",
     "text": [
      "24937.67577101099 (19778.830835016735, 31581.345543452982)\n"
     ]
    }
   ],
   "source": [
    "print(1e9/np.mean(radhakrishnan_to_formankay_mfpt), confidence_interval(1e9/np.array(radhakrishnan_to_formankay_mfpt)))"
   ]
  },
  {
   "cell_type": "markdown",
   "metadata": {},
   "source": [
    "## Representative Markov states for bound state models"
   ]
  },
  {
   "cell_type": "code",
   "execution_count": 123,
   "metadata": {},
   "outputs": [],
   "source": [
    "twok6d_state, twojt4_state = states_for_2k6d[model.stationary_distribution[states_for_2k6d].argmax()],states_for_2jt4[model.stationary_distribution[states_for_2jt4].argmax()]"
   ]
  },
  {
   "cell_type": "code",
   "execution_count": 124,
   "metadata": {},
   "outputs": [],
   "source": [
    "samples_twok6d_state  = model.sample_by_state(512, subset=[twok6d_state], replace=False)\n",
    "samples_twojt4_state = model.sample_by_state(512, subset=[twojt4_state], replace=False)\n",
    "\n",
    "#pyemma.coordinates.save_traj(nfsource, samples_nmr_state, outfile=\"nmr_state_repr.pdb\")\n",
    "#pyemma.coordinates.save_traj(nfsource, samples_xray_state, outfile=\"xray_state_repr.pdb\")"
   ]
  },
  {
   "cell_type": "code",
   "execution_count": 125,
   "metadata": {},
   "outputs": [
    {
     "name": "stdout",
     "output_type": "stream",
     "text": [
      "Forman-Kay probability: 0.015274352180748773\n",
      "Radhakrishnan probability: 0.3741668234405707\n"
     ]
    }
   ],
   "source": [
    "print(f\"Forman-Kay probability: {model.stationary_distribution[samples_twok6d_state].sum()}\")\n",
    "print(f\"Radhakrishnan probability: {model.stationary_distribution[samples_twojt4_state].sum()}\")\n"
   ]
  },
  {
   "cell_type": "markdown",
   "metadata": {},
   "source": [
    "# Sample representative conformers for visualization"
   ]
  },
  {
   "cell_type": "code",
   "execution_count": 128,
   "metadata": {},
   "outputs": [],
   "source": [
    "representative_clusters = [(new_membership[:,i]*model.stationary_distribution).argmax() for i in range(16)]"
   ]
  },
  {
   "cell_type": "code",
   "execution_count": 104,
   "metadata": {},
   "outputs": [],
   "source": [
    "samples_from_repr_state = model.sample_by_state(32, subset=representative_clusters, replace=False)\n",
    "\n",
    "samples_viz = [pyemma.coordinates.save_traj(nfsource, sr, outfile=None) for sr in samples_from_repr_state]"
   ]
  },
  {
   "cell_type": "code",
   "execution_count": 105,
   "metadata": {},
   "outputs": [],
   "source": [
    "for i,_t in enumerate(samples_viz):\n",
    "    _t.save_xtc(f\"state_viz_{i}.xtc\")"
   ]
  },
  {
   "cell_type": "markdown",
   "metadata": {},
   "source": [
    "# Compute NMR Order parameters "
   ]
  },
  {
   "cell_type": "code",
   "execution_count": 26,
   "metadata": {},
   "outputs": [],
   "source": [
    "def order_parameter(frames, weights=None):\n",
    "    \"\"\"\n",
    "    frames ndarray (nframes, nres, 2, 3):\n",
    "        where the last two dimensions are atom and cartesian coordinates.\n",
    "    assumes frames are already superpositioned.\n",
    "    weights (optional): ndarray of weights (nframes,)\n",
    "    \"\"\"\n",
    "    #bond vector\n",
    "    NHs = frames[:,:,0,:] - frames[:,:,1,:]\n",
    "    #normalize\n",
    "    NHs_normed = NHs/np.linalg.norm(NHs, axis=2, keepdims=True)\n",
    "    if not isinstance(weights, np.ndarray):\n",
    "        projections = (NHs_normed[:,:,0]*NHs_normed[:,:,0]).mean(axis=0)**2. +\\\n",
    "            (NHs_normed[:,:,1]*NHs_normed[:,:,1]).mean(axis=0)**2. +\\\n",
    "            (NHs_normed[:,:,2]*NHs_normed[:,:,2]).mean(axis=0)**2. +\\\n",
    "            (NHs_normed[:,:,0]*NHs_normed[:,:,1]).mean(axis=0)**2. +\\\n",
    "            (NHs_normed[:,:,2]*NHs_normed[:,:,0]).mean(axis=0)**2. +\\\n",
    "            (NHs_normed[:,:,2]*NHs_normed[:,:,1]).mean(axis=0)**2.\n",
    "    else:\n",
    "        projections = np.average(NHs_normed[:,:,0]*NHs_normed[:,:,0], axis=0, weights=weights)**2. +\\\n",
    "            np.average(NHs_normed[:,:,1]*NHs_normed[:,:,1], axis=0, weights=weights)**2. +\\\n",
    "            np.average(NHs_normed[:,:,2]*NHs_normed[:,:,2], axis=0, weights=weights)**2. +\\\n",
    "            np.average(NHs_normed[:,:,0]*NHs_normed[:,:,1], axis=0, weights=weights)**2. +\\\n",
    "            np.average(NHs_normed[:,:,2]*NHs_normed[:,:,0], axis=0, weights=weights)**2. +\\\n",
    "            np.average(NHs_normed[:,:,2]*NHs_normed[:,:,1], axis=0, weights=weights)**2.\n",
    "        \n",
    "\n",
    "    return 3./2.*projections-0.5\n"
   ]
  },
  {
   "cell_type": "markdown",
   "metadata": {},
   "source": [
    "Bloat up your memory"
   ]
  },
  {
   "cell_type": "code",
   "execution_count": 27,
   "metadata": {},
   "outputs": [
    {
     "data": {
      "application/vnd.jupyter.widget-view+json": {
       "model_id": "",
       "version_major": 2,
       "version_minor": 0
      },
      "text/plain": [
       "HBox(children=(FloatProgress(value=0.0, description='Obtaining file info', layout=Layout(flex='2'), max=1015.0…"
      ]
     },
     "metadata": {},
     "output_type": "display_data"
    },
    {
     "name": "stdout",
     "output_type": "stream",
     "text": [
      "\r"
     ]
    },
    {
     "data": {
      "application/vnd.jupyter.widget-view+json": {
       "model_id": "",
       "version_major": 2,
       "version_minor": 0
      },
      "text/plain": [
       "HBox(children=(FloatProgress(value=0.0, description='getting output of FeatureReader', layout=Layout(flex='2')…"
      ]
     },
     "metadata": {},
     "output_type": "display_data"
    },
    {
     "name": "stdout",
     "output_type": "stream",
     "text": [
      "\r"
     ]
    }
   ],
   "source": [
    "nh_atoms = pyemma.coordinates.featurizer(\"align_topol.pdb\")\n",
    "nh_atoms.add_selection( nh_atoms.select(\"resi 0 to 75 and name N or name H\")[:149] )\n",
    "nh_source = pyemma.coordinates.source([f\"joined_strided_trajectories/trajectory_{i}.xtc\" for i in range(1015) if i not in skippable], features=nh_atoms)\n",
    "nh_bonds = nh_source.get_output()"
   ]
  },
  {
   "cell_type": "code",
   "execution_count": 33,
   "metadata": {},
   "outputs": [],
   "source": [
    "committor_im = (tpt_.committor[dtrajcat]>0.45)*(tpt_.committor[dtrajcat]<0.75)\n",
    "\n",
    "#im_states  (tpt_.committor>0.45)*(tpt_.committor<0.75)\n",
    "non_pro_atoms = np.array([i for i,s in enumerate(nh_source.describe()[1:]) if \"PRO\" not in s])\n",
    "cat_nh_bonds = np.concatenate([a_[:, non_pro_atoms].reshape(len(a_), 73, 2, 3) for a_ in nh_bonds])\n",
    "cat_nh_bonds_=cat_nh_bonds[dtrajscatx!=-1]\n",
    "\n",
    "intermed_S2 = order_parameter(cat_nh_bonds_[committor_im], weights=traj_weights[committor_im])\n",
    "#intermed_S2 = order_parameter(cat_nh_bonds_[im_states], weights=traj_weights[im_states])\n",
    "\n",
    "\n",
    "resids_nh=np.array([int(''.join(list(s)[9:11])) for i,s in enumerate(nh_source.describe()[1::6]) if \"PRO\" not in s])\n",
    "unbound_S2 = order_parameter(cat_nh_bonds_[committor_0], weights=traj_weights[committor_0])\n",
    "bound_S2 = order_parameter(cat_nh_bonds_[committor_1], weights=traj_weights[committor_1])\n",
    "                            "
   ]
  },
  {
   "cell_type": "code",
   "execution_count": 95,
   "metadata": {},
   "outputs": [],
   "source": [
    "expl_o2 = np.loadtxt('kalyan_ubq_o2/data.dat')\n",
    "expl_r2 = np.loadtxt('kalyan_ubq_o2/datar2.dat')\n"
   ]
  },
  {
   "cell_type": "code",
   "execution_count": 65,
   "metadata": {},
   "outputs": [],
   "source": [
    "import matplotlib.gridspec as gridspec"
   ]
  },
  {
   "cell_type": "code",
   "execution_count": 128,
   "metadata": {},
   "outputs": [
    {
     "data": {
      "image/png": "[encoded data removed]",
      "text/plain": [
       "<Figure size 576x432 with 8 Axes>"
      ]
     },
     "metadata": {
      "needs_background": "light"
     },
     "output_type": "display_data"
    }
   ],
   "source": [
    "fig = plt.figure(constrained_layout=True,figsize=(8,6))#, sharey=True)\n",
    "spec = gridspec.GridSpec(ncols=5, nrows=4, figure=fig)\n",
    "max4 = fig.add_subplot(spec[3, :3])\n",
    "max1 = fig.add_subplot(spec[0, :3], sharex=max4)\n",
    "max2 = fig.add_subplot(spec[1, :3], sharex=max4)\n",
    "max3 = fig.add_subplot(spec[2, :3], sharex=max4)\n",
    "\n",
    "zax4 = fig.add_subplot(spec[3, -2:], sharey=max4)\n",
    "zax1 = fig.add_subplot(spec[0, -2:], sharey=max1, sharex=zax4)\n",
    "zax2 = fig.add_subplot(spec[1, -2:], sharey=max2, sharex=zax4)\n",
    "zax3 = fig.add_subplot(spec[2, -2:], sharey=max3, sharex=zax4)\n",
    "\n",
    "max1.text(-0.13,1.0, \"A\", transform=max1.transAxes, fontsize=16, va='top')\n",
    "zax1.text(-0.20,1.0, \"B\", transform=zax1.transAxes, fontsize=16, va='top')\n",
    "max2.text(-0.13,1.0, \"C\", transform=max2.transAxes, fontsize=16, va='top')\n",
    "zax2.text(-0.20,1.0, \"D\", transform=zax2.transAxes, fontsize=16, va='top')\n",
    "max3.text(-0.13,1.0, \"E\", transform=max3.transAxes, fontsize=16, va='top')\n",
    "zax3.text(-0.20,1.0, \"F\", transform=zax3.transAxes, fontsize=16, va='top')\n",
    "max4.text(-0.13,1.0, \"G\", transform=max4.transAxes, fontsize=16, va='top')\n",
    "zax4.text(-0.20,1.0, \"H\", transform=zax4.transAxes, fontsize=16, va='top')\n",
    "\n",
    "\n",
    "\n",
    "\n",
    "# first row\n",
    "\n",
    "#fig, ax = plt.subplots(2, figsize=(6,6),sharex=True)\n",
    "max1.scatter(resids_nh,unbound_S2,marker=\".\",label=\"Unbound\");\n",
    "max1.scatter(resids_nh,bound_S2,marker=\".\",label=\"Bound\");\n",
    "max1.bar(resids_nh+0.2, intermed_S2, alpha=0.4,label=\"Intermediate\");\n",
    "max1.set_ylabel(r\"$S^2$\")\n",
    "\n",
    "zax1.scatter(resids_nh,unbound_S2,marker=\".\",label=\"Unbound\");\n",
    "zax1.scatter(resids_nh,bound_S2,marker=\".\",label=\"Bound\");\n",
    "zax1.bar(resids_nh+0.2, intermed_S2, alpha=0.4,label=\"Intermediate\");\n",
    "#zax1.set_ylabel(r\"$S^2$\")\n",
    "zax1.set_xlim([70,77])\n",
    "zax1.set_ylim([0,1])\n",
    "zax1.set_xlim([69.75,77])\n",
    "zax1.set_ylim([0,1])\n",
    "\n",
    "\n",
    "# second row\n",
    "\n",
    "max2.errorbar(expl_r2[:,0],expl_r2[:,1],yerr=expl_r2[:,2], marker=\".\",label=\"Unbound\",ls='none');\n",
    "max2.errorbar(expl_r2[:,0],expl_r2[:,3],yerr=expl_r2[:,4],marker=\".\",label=\"Bound\",ls='none');\n",
    "max2.set_ylabel(r\"$R_2$\")\n",
    "\n",
    "zax2.errorbar(expl_r2[:,0],expl_r2[:,1],yerr=expl_r2[:,2],marker=\".\",label=\"Unbound\",ls='none');\n",
    "zax2.errorbar(expl_r2[:,0],expl_r2[:,3],yerr=expl_r2[:,4],marker=\".\",label=\"Bound\",ls='none');\n",
    "#zax1.set_ylabel(r\"$S^2$\")\n",
    "zax2.set_xlim([70,77])\n",
    "#zax2.set_ylim([0,1])\n",
    "zax2.set_xlim([69.75,77])\n",
    "#zax2.set_ylim([0,1])\n",
    "\n",
    "\n",
    "# third row\n",
    "\n",
    "max3.errorbar(expl_r2[:,0],expl_r2[:,1]/expl_r2[:,3], marker=\".\",label=\"Unbound\",ls='none');\n",
    "max3.hlines((expl_r2[:-7,1]/expl_r2[:-7,3]).mean(), 0,70, linestyle='--')\n",
    "#max2.errorbar(expl_r2[:,0],expl_r2[:,3],yerr=expl_r2[:,4],marker=\".\",label=\"Bound\",ls='none');\n",
    "max3.set_ylabel(r\"$R^{\\mathrm{unbound}}_2/R^{\\mathrm{bound}}_2$\")\n",
    "\n",
    "zax3.errorbar(expl_r2[:,0],expl_r2[:,1]/expl_r2[:,3],marker=\".\",label=\"Bound\",ls='none');\n",
    "zax3.hlines((expl_r2[:-7,1]/expl_r2[:-7,3]).mean(), 70,75, linestyle='--')\n",
    "\n",
    "#zax1.set_ylabel(r\"$S^2$\")\n",
    "zax3.set_xlim([70,77])\n",
    "#zax2.set_ylim([0,1])\n",
    "zax3.set_xlim([69.75,77])\n",
    "#zax2.set_ylim([0,1])\n",
    "\n",
    "\n",
    "# fourth row\n",
    "\n",
    "# second row\n",
    "\n",
    "max4.errorbar(expl_o2[:,0],expl_o2[:,1],yerr=expl_o2[:,2], marker=\".\",label=\"Unbound\",ls='none');\n",
    "max4.errorbar(expl_o2[:,0],expl_o2[:,3],yerr=expl_o2[:,4],marker=\".\",label=\"Bound\",ls='none');\n",
    "max4.set_ylabel(r\"$\\hatS^2$\")\n",
    "\n",
    "zax4.errorbar(expl_o2[:,0],expl_o2[:,1],yerr=expl_o2[:,2],marker=\".\",label=\"Unbound\",ls='none');\n",
    "zax4.errorbar(expl_o2[:,0],expl_o2[:,3],yerr=expl_o2[:,4],marker=\".\",label=\"Bound\",ls='none');\n",
    "#zax1.set_ylabel(r\"$S^2$\")\n",
    "zax4.set_xlim([70,77])\n",
    "#zax2.set_ylim([0,1])\n",
    "zax4.set_xlim([69.75,77])\n",
    "#zax2.set_ylim([0,1])\n",
    "\n",
    "max4.set_xlim([0.5,77])\n",
    "zax4.set_xlabel(r\"residue index\")\n",
    "max4.set_xlabel(r\"residue index\")\n",
    "\n",
    "zax1.legend()#loc='lower center')\n",
    "#ax[1].errorbar(expl_o2[:,0], expl_o2[:,1]/expl_o2[:,3], yerr=expl_o2[:,2])\n",
    "#ax[1].errorbar(expl_o2[:,0], expl_o2[:,3], yerr=expl_o2[:,4])\n",
    "#ax[1].set_ylabel(r\"$S^2$\")\n",
    "##ax[1].set_ylim([0,1])\n",
    "\n",
    "plt.tight_layout()\n",
    "plt.savefig(\"order_params.pdf\")\n"
   ]
  },
  {
   "cell_type": "markdown",
   "metadata": {},
   "source": [
    "Salt-bridges (side-chain unless noted):\n",
    "* Arg72 - Asp 52\n",
    "* Arg74 - Asp 39\n",
    "* Arg74 - Asp 52\n",
    "* Arg72 - Asp 39\n",
    "* Arg72 - Cys 76-OXT\n"
   ]
  },
  {
   "cell_type": "code",
   "execution_count": 105,
   "metadata": {},
   "outputs": [],
   "source": [
    "def get_samples_ftraj(samples, ftraj):\n",
    "    out = []\n",
    "    for t in samples:\n",
    "        traj = []\n",
    "        for s in t:\n",
    "            traj.append(ftraj[s[0]][s[1]])\n",
    "        out.append(traj)\n",
    "    return out\n",
    "            "
   ]
  },
  {
   "cell_type": "code",
   "execution_count": 106,
   "metadata": {},
   "outputs": [
    {
     "name": "stdout",
     "output_type": "stream",
     "text": [
      "[0.         0.00390625 0.00195312 0.02148438 0.59570312]\n",
      "[0.46289062 0.         0.         0.03125    0.45898438]\n"
     ]
    }
   ],
   "source": [
    "print((np.array(get_samples_ftraj(samples_nmr_state, saltbridges)[0])<0.35).mean(axis=0))\n",
    "print((np.array(get_samples_ftraj(samples_xray_state, saltbridges)[0])<0.35).mean(axis=0))"
   ]
  },
  {
   "cell_type": "code",
   "execution_count": 107,
   "metadata": {},
   "outputs": [
    {
     "data": {
      "text/plain": [
       "array([0.58234734, 0.63076295, 0.98191214, 0.95525636, 0.59730722])"
      ]
     },
     "execution_count": 107,
     "metadata": {},
     "output_type": "execute_result"
    }
   ],
   "source": [
    "(saltbridgecat[committor_0]<0.35).mean(axis=0)"
   ]
  },
  {
   "cell_type": "code",
   "execution_count": 108,
   "metadata": {},
   "outputs": [
    {
     "data": {
      "text/plain": [
       "array([-0.11945672, -0.63076295, -0.98191214, -0.92400636, -0.13832285])"
      ]
     },
     "execution_count": 108,
     "metadata": {},
     "output_type": "execute_result"
    }
   ],
   "source": [
    "(np.array(get_samples_ftraj(samples_xray_state, saltbridges)[0])<0.35).mean(axis=0)-(saltbridgecat[committor_0]<0.35).mean(axis=0)"
   ]
  },
  {
   "cell_type": "markdown",
   "metadata": {},
   "source": [
    "## PREs\n",
    "Reported PRE values are scaled to compensate for mixed populations of bound and unbound. Here the reproduction of data is best reproduced if the population of unbound state is 0."
   ]
  },
  {
   "cell_type": "code",
   "execution_count": 39,
   "metadata": {},
   "outputs": [],
   "source": [
    "feat_pre = pyemma.coordinates.featurizer(\"align_topol.pdb\")\n",
    "atom_pairs = []\n",
    "expl_dist = []\n",
    "with open('PRE_FormanKay.dat') as f:\n",
    "    for line in f.readlines():\n",
    "        ls = line.split()\n",
    "        atom_pairs.append([feat_pre.topology.select('resi {} and name {}'.format(ls[0], ls[1])), \n",
    "                           feat_pre.topology.select('resi {} and name {}'.format(int(ls[2])-1, ls[3])),  ])\n",
    "        expl_dist.append(float(ls[-1]))\n",
    "\n",
    "feat_pre.add_distances(np.array(atom_pairs).reshape(-1,2))"
   ]
  },
  {
   "cell_type": "code",
   "execution_count": 40,
   "metadata": {},
   "outputs": [
    {
     "data": {
      "application/vnd.jupyter.widget-view+json": {
       "model_id": "",
       "version_major": 2,
       "version_minor": 0
      },
      "text/plain": [
       "HBox(children=(FloatProgress(value=0.0, description='Obtaining file info', layout=Layout(flex='2'), max=1015.0…"
      ]
     },
     "metadata": {},
     "output_type": "display_data"
    },
    {
     "name": "stdout",
     "output_type": "stream",
     "text": [
      "\r"
     ]
    }
   ],
   "source": [
    "source_pre = pyemma.coordinates.source([f\"joined_strided_trajectories/trajectory_{i}.xtc\" for i in range(1015) if i not in skippable], features=feat_pre)"
   ]
  },
  {
   "cell_type": "code",
   "execution_count": 41,
   "metadata": {},
   "outputs": [
    {
     "data": {
      "application/vnd.jupyter.widget-view+json": {
       "model_id": "",
       "version_major": 2,
       "version_minor": 0
      },
      "text/plain": [
       "HBox(children=(FloatProgress(value=0.0, description='getting output of FeatureReader', layout=Layout(flex='2')…"
      ]
     },
     "metadata": {},
     "output_type": "display_data"
    },
    {
     "name": "stdout",
     "output_type": "stream",
     "text": [
      "\r"
     ]
    }
   ],
   "source": [
    "pre_dist = source_pre.get_output()"
   ]
  },
  {
   "cell_type": "code",
   "execution_count": 42,
   "metadata": {},
   "outputs": [],
   "source": [
    "pre_dist_cat = np.vstack(pre_dist)[dtrajscatx!=-1]"
   ]
  },
  {
   "cell_type": "code",
   "execution_count": 43,
   "metadata": {},
   "outputs": [],
   "source": [
    "state_avg_pre=[(pre_dist_cat[dtrajscat==i]**(-6.)).mean(axis=0)**(-1./6.) for i in unique_states]"
   ]
  },
  {
   "cell_type": "code",
   "execution_count": 44,
   "metadata": {},
   "outputs": [
    {
     "data": {
      "image/png": "[encoded data removed]",
      "text/plain": [
       "<Figure size 360x144 with 2 Axes>"
      ]
     },
     "metadata": {
      "needs_background": "light"
     },
     "output_type": "display_data"
    }
   ],
   "source": [
    "fig, ax = plt.subplots(ncols=2, figsize=(5,2))\n",
    "\n",
    "scales = np.linspace(0,5000,250)\n",
    "\n",
    "frac_unbound = []\n",
    "RMS_pre = []\n",
    "\n",
    "for scale in scales:\n",
    "    fixed_dist = model.stationary_distribution.copy()\n",
    "    fixed_dist[tpt_.committor==0]=model.stationary_distribution[tpt_.committor==0].copy()*scale\n",
    "    fixed_dist=fixed_dist/fixed_dist.sum()\n",
    "    frac_unbound.append(1-fixed_dist[tpt_.committor==0].sum())\n",
    "    RMS_pre.append(np.std(fixed_dist.dot(np.array(state_avg_pre)[:,:]**(-6.) )**(-1./6.)*10-np.array(expl_dist)))\n",
    "\n",
    "   \n",
    "ax[0].plot(frac_unbound, RMS_pre)\n",
    "ax[0].set_ylabel(r\"RMS error PRE / $\\mathrm{\\AA}$\")\n",
    "ax[0].set_xlabel(\"Fraction unbound\")\n",
    "\n",
    "fixed_dist = model.stationary_distribution.copy()\n",
    "fixed_dist[tpt_.committor==0]=model.stationary_distribution[tpt_.committor==0].copy()*scales[np.argmin(RMS_pre)]\n",
    "fixed_dist=fixed_dist/fixed_dist.sum()\n",
    "\n",
    "dist_pre_error = np.array([np.array(model.sample_std('expectation', np.array(state_avg_pre)[:,i] )) for i in range(len(expl_dist))])\n",
    "ax[1].errorbar(fixed_dist.dot(np.array(state_avg_pre)[:,:]**(-6.) )**(-1./6.)*10,\n",
    "            np.array(expl_dist), xerr=dist_pre_error*10., yerr=5*np.ones(len(expl_dist)), fmt='.')\n",
    "ax[1].plot(np.linspace(5, 30, 5),  np.linspace(5, 30, 5), color='k' )\n",
    "#ax.hlines(22,  20, 25, color='k' )\n",
    "\n",
    "ax[1].set_xlim(5,30)\n",
    "ax[1].set_ylim(5,30)\n",
    "ax[1].set_xlabel(r\"$\\langle d \\rangle_{\\mathrm{MSM}}\\, /\\, \\AA$\")\n",
    "ax[1].set_ylabel(r\"$\\langle d \\rangle_{\\mathrm{expl}}\\, /\\, \\AA$\")\n",
    "fig.tight_layout()\n",
    "\n",
    "plt.savefig(\"pre_backcalc.pdf\")\n"
   ]
  },
  {
   "cell_type": "code",
   "execution_count": 168,
   "metadata": {},
   "outputs": [],
   "source": [
    "tpt_.flux.astype('float64').tofile(\"for_thomas_analysis/netflux.dat\")\n",
    "tpt_.committor.astype('float64').tofile(\"for_thomas_analysis/committor.dat\")\n",
    "\n",
    "#net_reactive_flux.astype('float64').tofile(\"for_thomas_analysis/net_reactive_flux.dat\")\n",
    "model.stationary_distribution.astype('float64').tofile(\"for_thomas_analysis/stationary_distribution.dat\")\n",
    "model.P.astype('float64').tofile(\"for_thomas_analysis/transition_matrix.dat\")\n",
    "\n",
    "state_avg_rmsds[:].astype('float64').tofile(\"for_thomas_analysis/state_avg_rmsd.dat\")\n",
    "state_avg_pflip[:].astype('float64').tofile(\"for_thomas_analysis/state_avg_pflip.dat\")\n",
    "state_avg_pincer[:].astype('float64').tofile(\"for_thomas_analysis/state_avg_pincer.dat\")\n",
    "state_avg_cc[:].astype('float64').tofile(\"for_thomas_analysis/state_avg_chain_contact.dat\")\n",
    "state_avg_CTICM[:].astype('float64').tofile(\"for_thomas_analysis/state_avg_cterm_mode.dat\")\n",
    "\n",
    "tpt_.A.astype('int16').tofile(\"for_thomas_analysis/unbound_state_indices.dat\")\n",
    "tpt_.B.astype('int16').tofile(\"for_thomas_analysis/bound_state_indices.dat\")\n"
   ]
  },
  {
   "cell_type": "code",
   "execution_count": 169,
   "metadata": {},
   "outputs": [],
   "source": [
    "net_reactive_flux_cg = np.max([mflux_two_unbound[-1].flux.sum(axis=0), mflux_two_unbound[-1].flux.sum(axis=1)], axis=0)"
   ]
  },
  {
   "cell_type": "code",
   "execution_count": 170,
   "metadata": {},
   "outputs": [],
   "source": [
    "mflux_two_unbound[-1].committor.astype('float64').tofile(\"for_thomas_analysis/committor_pcca_two_unbound.dat\")\n",
    "net_reactive_flux_cg.astype('float64').tofile(\"for_thomas_analysis/net_reactive_flux_pcca_unbound.dat\")\n",
    "mflux_two_unbound[-1].flux.astype('float64').tofile(\"for_thomas_analysis/net_flux_pcca_unbound.dat\")\n"
   ]
  },
  {
   "cell_type": "markdown",
   "metadata": {},
   "source": [
    "# generate table of meta-stable state properties"
   ]
  },
  {
   "cell_type": "code",
   "execution_count": 194,
   "metadata": {},
   "outputs": [],
   "source": [
    "net_reactive_flux_cg_one_unbound = np.max([mflux_two_unbound[-1].flux.sum(axis=0), mflux_two_unbound[-1].flux.sum(axis=1)], axis=0)"
   ]
  },
  {
   "cell_type": "code",
   "execution_count": 200,
   "metadata": {
    "scrolled": true
   },
   "outputs": [
    {
     "name": "stdout",
     "output_type": "stream",
     "text": [
      "state & $p_i$ ($\\%$)  & $p_{\\mathrm{bind}}$ & net reactive flux  & $p_{\\mathrm{compact}}$   \\\\\n",
      "15 &$0.222_{0.151}^{0.318}$ &$0.0$ &$8.3 \\cdot 10^{-6}$ &$0.0_{0.0}^{0.0}$ \\\\\n",
      "16 &$0.0758_{0.0403}^{0.135}$ &$0.0$ &$2.5 \\cdot 10^{-6}$ &$1.0_{1.0}^{1.0}$ \\\\\n",
      "0 &$0.264_{0.036}^{1.37}$ &$0.57$ &$8.1 \\cdot 10^{-9}$ &$0.0_{0.0}^{0.0}$ \\\\\n",
      "1 &$0.272_{0.0956}^{0.679}$ &$0.93$ &$2 \\cdot 10^{-8}$ &$0.0_{0.0}^{0.0}$ \\\\\n",
      "2 &$0.581_{0.204}^{1.4}$ &$0.58$ &$1.4 \\cdot 10^{-7}$ &$0.0_{0.0}^{0.0}$ \\\\\n",
      "3 &$0.565_{0.211}^{1.48}$ &$0.52$ &$1.1 \\cdot 10^{-7}$ &$0.0_{0.0}^{0.0}$ \\\\\n",
      "4 &$0.541_{0.135}^{1.4}$ &$0.92$ &$4.4 \\cdot 10^{-9}$ &$0.0_{0.0}^{0.0}$ \\\\\n",
      "5 &$2.56_{1.74}^{3.61}$ &$0.59$ &$1.1 \\cdot 10^{-6}$ &$0.002_{0.000632}^{0.005}$ \\\\\n",
      "6 &$1.02_{0.398}^{2.31}$ &$0.66$ &$7.2 \\cdot 10^{-8}$ &$0.00956_{0.00129}^{0.0384}$ \\\\\n",
      "7 &$4.33_{2.72}^{7.26}$ &$0.51$ &$1.3 \\cdot 10^{-6}$ &$0.0575_{0.0264}^{0.106}$ \\\\\n",
      "8 &$6.08_{4.3}^{8.24}$ &$0.57$ &$1.6 \\cdot 10^{-6}$ &$0.00473_{0.00126}^{0.0144}$ \\\\\n",
      "9 &$1.12_{0.372}^{2.37}$ &$0.8$ &$7.1 \\cdot 10^{-8}$ &$0.0_{0.0}^{0.0}$ \\\\\n",
      "10 &$2.11_{1.42}^{3.03}$ &$0.8$ &$8.7 \\cdot 10^{-7}$ &$0.0_{0.0}^{0.0}$ \\\\\n",
      "11 &$8.67_{6.64}^{11.2}$ &$0.85$ &$3.2 \\cdot 10^{-6}$ &$0.0674_{0.0451}^{0.0946}$ \\\\\n",
      "12 &$9.17_{6.13}^{13.2}$ &$0.75$ &$1.4 \\cdot 10^{-6}$ &$0.223_{0.162}^{0.292}$ \\\\\n",
      "13 &$24.0_{19.8}^{28.7}$ &$0.67$ &$6.5 \\cdot 10^{-6}$ &$0.0271_{0.0177}^{0.0411}$ \\\\\n",
      "14 &$38.4_{31.7}^{45.6}$ &$1.0$ &$1.1 \\cdot 10^{-5}$ &$0.0583_{0.0425}^{0.0785}$ \\\\\n"
     ]
    }
   ],
   "source": [
    "def latex_float(f):\n",
    "    \"\"\"\n",
    "    stolen from: https://stackoverflow.com/questions/13490292/format-number-using-latex-notation-in-python\n",
    "    \"\"\"\n",
    "    \n",
    "    float_str = \"{0:.2g}\".format(f)\n",
    "    if \"e\" in float_str:\n",
    "        base, exponent = float_str.split(\"e\")\n",
    "        return r\"{0} \\cdot 10^{{{1}}}\".format(base, int(exponent))\n",
    "    else:\n",
    "        return float_str\n",
    "\n",
    "print(r\"state & $p_i$ ($\\%$)  & $p_{\\mathrm{bind}}$ & net reactive flux  & $p_{\\mathrm{compact}}$   \\\\\")\n",
    "state_idx = [15,16,0,1,2,3,4,5,6,7,8,9,10,11,12,13,14]\n",
    "for i in range(17):\n",
    "    #print state number\n",
    "    print(f\"{state_idx[i]} &\", end=\"\")\n",
    "    #print population\n",
    "    print(r\"$\"+f\"{mean_cg_dist[state_idx[i]]*100:.3}\"\n",
    "          +\"_{\"+ f\"{ci_cg_lo[state_idx[i]]*100.:.3}\" \n",
    "          + r\"}^{\" + f\"{ci_cg_hi[state_idx[i]]*100.:.3}\"+r\"}$ &\", end=\"\")\n",
    "    \n",
    "    #print p_bind\n",
    "    print(r\"$\"+f\"{mflux_two_unbound[-1].committor[i]:.2}\"+r\"$ &\", end=\"\")\n",
    "        #  +\"_{\"+ f\"{p_binds_CI[state_idx[i]][0]:.3}\" \n",
    "         # + r\"}^{\" + f\"{p_binds_CI[state_idx[i]][1]:.3}\"+r\"}$ &\"\n",
    "    #print(r\"$\"+f\"{mflux_two_unbound[-1].committor[i]:.3}\"+r\"$ &\", end=\"\")\n",
    "        \n",
    "    #print net-flux\n",
    "    print(r\"$\"+latex_float(net_reactive_flux_cg[i])+r\"$ &\", end=\"\")\n",
    "#          +\"}_{\"+ latex_float(nrf_CI[state_idx[i]][0]) \n",
    "#          + r\"}^{\" + latex_float(nrf_CI[state_idx[i]][1])+r\"}$ &\", end=\"\")\n",
    "    #print(r\"$\"+latex_float(net_reactive_flux_cg_one_unbound[i])+r\"$ &\", end=\"\")\n",
    "        \n",
    "    #print p_in\n",
    "#    print(r\"$\"+f\"{p_outs[state_idx[i]]:.3}\"+r\"$ &\", end=\"\")\n",
    "\n",
    "    \n",
    "    #print p_compact\n",
    "    print(r\"$\"+f\"{p_compacts[state_idx[i]]:.3}\"\n",
    "          +\"_{\"+ f\"{p_compacts_ci[state_idx[i]][0]:.3}\" \n",
    "          + r\"}^{\" + f\"{p_compacts_ci[state_idx[i]][1]:.3}\"+r\"}$ \\\\\", end=\"\")\n",
    "    #print(r\"$\"+f\"{p_compacts[state_idx[i]]:.3}\"+r\"$ \\\\\", end=\"\")\n",
    "\n",
    "    print(\"\")"
   ]
  },
  {
   "cell_type": "code",
   "execution_count": null,
   "metadata": {},
   "outputs": [],
   "source": []
  }
 ],
 "metadata": {
  "kernelspec": {
   "display_name": "Python 3",
   "language": "python",
   "name": "python3"
  },
  "language_info": {
   "codemirror_mode": {
    "name": "ipython",
    "version": 3
   },
   "file_extension": ".py",
   "mimetype": "text/x-python",
   "name": "python",
   "nbconvert_exporter": "python",
   "pygments_lexer": "ipython3",
   "version": "3.7.6"
  }
 },
 "nbformat": 4,
 "nbformat_minor": 4
}
