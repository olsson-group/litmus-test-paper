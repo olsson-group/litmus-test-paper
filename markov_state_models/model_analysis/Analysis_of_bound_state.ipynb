{
 "cells": [
  {
   "cell_type": "code",
   "execution_count": 22,
   "metadata": {},
   "outputs": [],
   "source": [
    "import mdtraj as md\n",
    "import numpy as np"
   ]
  },
  {
   "cell_type": "code",
   "execution_count": 23,
   "metadata": {},
   "outputs": [],
   "source": [
    "data = md.load(\"state_viz_14.xtc\", top=\"align_topol.pdb\")"
   ]
  },
  {
   "cell_type": "code",
   "execution_count": 24,
   "metadata": {},
   "outputs": [],
   "source": [
    "ubq_selection = data.top.select(\"resid 0 to 75\")\n",
    "SH3_selection = data.top.select(\"resid 76 to 149\")\n"
   ]
  },
  {
   "cell_type": "code",
   "execution_count": 59,
   "metadata": {},
   "outputs": [
    {
     "ename": "NameError",
     "evalue": "name 'compute_neighbors' is not defined",
     "output_type": "error",
     "traceback": [
      "\u001b[0;31m---------------------------------------------------------------------------\u001b[0m",
      "\u001b[0;31mNameError\u001b[0m                                 Traceback (most recent call last)",
      "\u001b[0;32m<ipython-input-59-bbde6ae011be>\u001b[0m in \u001b[0;36m<module>\u001b[0;34m\u001b[0m\n\u001b[0;32m----> 1\u001b[0;31m \u001b[0mcompute_neighbors\u001b[0m\u001b[0;34m\u001b[0m\u001b[0;34m\u001b[0m\u001b[0m\n\u001b[0m",
      "\u001b[0;31mNameError\u001b[0m: name 'compute_neighbors' is not defined"
     ]
    }
   ],
   "source": [
    "md.compute_neighbors()"
   ]
  },
  {
   "cell_type": "code",
   "execution_count": 77,
   "metadata": {},
   "outputs": [],
   "source": [
    "neighbors, counts = np.unique(np.concatenate(md.compute_neighbors(data, cutoff=1.0, query_indices=ubq_selection, haystack_indices=SH3_selection, periodic=False)), return_counts=True)"
   ]
  },
  {
   "cell_type": "code",
   "execution_count": 78,
   "metadata": {},
   "outputs": [
    {
     "data": {
      "text/plain": [
       "array([ 1,  1,  1,  1,  1,  1,  1,  1,  1,  1,  1,  1,  1,  1,  2,  2,  2,\n",
       "        1,  1,  1,  2,  2,  2,  9, 20,  9,  4, 32, 32, 32, 32,  1,  5,  3,\n",
       "        4, 29, 15, 32, 32, 32, 32, 32, 32, 32, 31, 30, 31, 32, 32, 32, 32,\n",
       "       28, 31, 28, 32, 32, 32, 32, 32, 32, 32, 32, 32, 32, 32, 32, 32, 32,\n",
       "       32, 32, 32, 32, 32, 32, 32, 32, 32, 32, 32, 32, 32, 32, 32, 32, 32,\n",
       "       32, 32, 32, 32, 32, 32, 32, 32, 32, 32, 32, 32, 32, 32, 32, 32, 32,\n",
       "       32, 32, 32, 32, 32, 32, 32, 32, 32, 32, 32, 32, 32, 32, 32, 32, 32,\n",
       "       32, 32, 32, 32, 32, 32, 32, 32, 32, 32, 32, 32, 32, 32, 32, 32, 32,\n",
       "       32, 32, 32, 32, 32, 32, 32, 32, 32, 32, 32, 32, 32, 32, 32, 32, 32,\n",
       "       32, 32, 32, 32, 32, 32, 32, 32, 32, 32, 32, 32, 32, 32, 32, 32, 32,\n",
       "       32, 32, 32, 31, 31, 29, 31, 32, 32, 32, 32, 32, 32, 32, 32, 32, 32,\n",
       "       32, 32, 32, 32, 32, 32, 32, 32, 32, 32, 32, 32, 32, 32, 32, 32, 32,\n",
       "       32, 32, 32, 32, 32, 31, 27, 28, 29,  3,  4,  1,  1,  1,  1,  2,  3,\n",
       "       32, 32, 32, 31, 32, 32, 32, 32, 32, 32, 32, 32, 32, 32, 32, 32, 32,\n",
       "       32, 32, 32, 32, 32, 32, 24, 21, 20, 32, 32, 32, 32, 32, 32, 32, 32,\n",
       "       32, 32, 32, 32, 32, 32, 32, 32, 31, 28, 31, 26, 24, 22, 17, 18, 16,\n",
       "       12, 14, 13, 12, 32, 31, 32, 32, 30, 30, 30, 28, 31, 30, 28, 28, 29,\n",
       "       29, 28,  3,  2,  1,  2,  1,  1,  5,  1,  3,  2,  1,  1,  1,  1,  2,\n",
       "        1,  3,  2,  3,  6, 11, 12, 11, 10,  8, 12, 17, 14,  5,  8,  5,  3,\n",
       "        4,  4,  2,  1,  4,  4,  5,  4,  4,  4,  4,  1,  7,  8,  9,  9,  8,\n",
       "        8,  5,  7,  9,  5, 19, 18, 26, 25, 26, 25, 26, 24, 26, 24, 23, 30,\n",
       "       32, 32, 31, 32, 32, 32, 32, 32, 31, 32, 32, 32, 31, 32, 31, 32, 31,\n",
       "       31, 32, 32, 32, 32, 32, 32, 32, 32, 32, 32, 32, 32, 32, 32, 32, 32,\n",
       "       32, 32, 32, 32, 32, 32, 32, 32, 32, 32, 32, 32, 32, 32, 32, 32, 32,\n",
       "       32, 32, 32, 32, 32, 32, 32, 32, 32, 32, 32, 32, 32, 32, 32, 32, 32,\n",
       "       32, 32, 32, 32, 32, 32, 32, 32, 32, 32, 32, 32, 32, 31, 29, 13, 10,\n",
       "       20, 11, 16, 24, 19, 23, 15, 14, 18,  4,  7,  2,  2,  2,  6, 32, 32,\n",
       "       29, 18, 31, 32, 31, 21, 32, 31, 32, 22, 30, 29, 26,  9,  6,  8, 18,\n",
       "        3,  1,  5,  1,  3,  4,  2,  6,  4,  6,  6,  5,  3,  5,  6,  1,  5,\n",
       "        3,  8,  4,  6,  3,  3,  4,  3,  3,  4,  3, 24, 28, 29, 28, 31, 31,\n",
       "       32, 32, 31, 32, 32, 32, 32, 32, 32, 32, 32, 32, 32, 32, 32, 32, 32,\n",
       "       32, 32, 32, 32, 32, 32, 32, 32, 32, 32, 27, 30, 11,  9,  3,  1,  5,\n",
       "        5, 23, 26, 32, 32, 32, 32, 32, 32, 32, 32, 32, 32, 32, 32, 32, 32,\n",
       "       32, 32, 32, 32, 32, 32, 32, 32, 32, 32, 32, 32, 32, 32, 32, 32, 32,\n",
       "       32, 32, 32, 32, 32, 32, 32, 32, 32, 32, 32, 32, 32, 32, 32, 32, 32,\n",
       "       32, 32, 32, 32, 32, 32, 32, 32, 32, 32, 32, 32, 32, 32, 32, 32, 30,\n",
       "       29, 16,  5, 15, 15, 18, 20, 18, 20, 20, 23, 29, 32, 18,  9, 17, 21,\n",
       "       19, 12, 23, 20, 21, 15, 23, 15, 26, 18, 19, 14, 17, 16, 14, 16,  2,\n",
       "        1,  2,  8,  1,  2,  1,  1,  2,  1,  1,  1,  1,  1,  1,  1,  1,  1,\n",
       "        2,  1,  1,  1,  1,  1,  2,  1])"
      ]
     },
     "execution_count": 78,
     "metadata": {},
     "output_type": "execute_result"
    }
   ],
   "source": [
    "counts"
   ]
  },
  {
   "cell_type": "code",
   "execution_count": 79,
   "metadata": {},
   "outputs": [],
   "source": [
    "contact=set([int(str(data.top.atom(r).residue)[3:]) for r in neighbors[counts>3]])"
   ]
  },
  {
   "cell_type": "code",
   "execution_count": 80,
   "metadata": {},
   "outputs": [],
   "source": [
    "dispers=set([5, 6, 7, 8, 10, 13, 14, 41, 42, 43, 44, 45, 46, 48, 49, 50, 51, 66, 67, 69, 71, 72 ])"
   ]
  },
  {
   "cell_type": "code",
   "execution_count": 81,
   "metadata": {},
   "outputs": [
    {
     "name": "stdout",
     "output_type": "stream",
     "text": [
      "66 41 42 43 44 45 46 48 49 50 "
     ]
    }
   ],
   "source": [
    "for r in contact.intersection(dispers):\n",
    "    print(r,end=\" \")"
   ]
  },
  {
   "cell_type": "code",
   "execution_count": 82,
   "metadata": {},
   "outputs": [
    {
     "name": "stdout",
     "output_type": "stream",
     "text": [
      "5 6 7 8 10 13 14 41 42 43 44 45 46 48 49 50 51 66 67 69 71 72 "
     ]
    }
   ],
   "source": [
    "for r in dispers:\n",
    "    print(r,end=\" \")"
   ]
  },
  {
   "cell_type": "code",
   "execution_count": null,
   "metadata": {},
   "outputs": [],
   "source": []
  }
 ],
 "metadata": {
  "kernelspec": {
   "display_name": "Python 3",
   "language": "python",
   "name": "python3"
  },
  "language_info": {
   "codemirror_mode": {
    "name": "ipython",
    "version": 3
   },
   "file_extension": ".py",
   "mimetype": "text/x-python",
   "name": "python",
   "nbconvert_exporter": "python",
   "pygments_lexer": "ipython3",
   "version": "3.7.6"
  }
 },
 "nbformat": 4,
 "nbformat_minor": 4
}
